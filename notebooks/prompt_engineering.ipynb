{
 "cells": [
  {
   "cell_type": "code",
   "execution_count": 37,
   "id": "e89ca784-3b71-48b9-9eb1-82250f7c5b5d",
   "metadata": {},
   "outputs": [],
   "source": [
    "import sys\n",
    "import os\n",
    "import gc\n",
    "import time\n",
    "\n",
    "project_root = os.path.abspath(\"..\")  # Adjust if needed\n",
    "sys.path.append(project_root)"
   ]
  },
  {
   "cell_type": "code",
   "execution_count": 2,
   "id": "80ce3a11-50a9-43e1-b0b4-4ff88e3ae784",
   "metadata": {},
   "outputs": [],
   "source": [
    "import pickle\n",
    "from newsies.ap_news.article import Article\n"
   ]
  },
  {
   "cell_type": "code",
   "execution_count": 324,
   "id": "13970c0d-7307-47d8-85b4-cda354d2c59f",
   "metadata": {},
   "outputs": [],
   "source": [
    "from huggingface_hub import snapshot_download"
   ]
  },
  {
   "cell_type": "code",
   "execution_count": 515,
   "id": "76453ddf-e6b0-475c-97e5-178d49ca7817",
   "metadata": {},
   "outputs": [],
   "source": [
    "#from newsies.llm.specs import _BASE_MODEL_NAME as model_name\n",
    "model_name = \"mistralai/Mistral-7B-Instruct-v0.3\""
   ]
  },
  {
   "cell_type": "code",
   "execution_count": 326,
   "id": "3a8de057-dcba-4190-a4c7-a1f5748994d0",
   "metadata": {},
   "outputs": [],
   "source": [
    "import torch\n",
    "from pathlib import Path"
   ]
  },
  {
   "cell_type": "code",
   "execution_count": 6,
   "id": "de6aae0e-342e-414f-9de7-ce261eff124e",
   "metadata": {},
   "outputs": [],
   "source": [
    "from transformers import (\n",
    "    AutoTokenizer,\n",
    "    AutoModelForCausalLM,\n",
    "    DataCollatorForLanguageModeling,\n",
    "    TrainingArguments,\n",
    "    Trainer,\n",
    "    logging as hf_logging,\n",
    ")"
   ]
  },
  {
   "cell_type": "code",
   "execution_count": 3,
   "id": "6c525913-c938-4d86-a276-04b78f28396b",
   "metadata": {},
   "outputs": [],
   "source": [
    "with open(\"../daily_news/apnews.com/79008acf2e1641fda3b05f644903d73c.pkl\",\"rb\") as fh:\n",
    "    a = pickle.load(fh)"
   ]
  },
  {
   "cell_type": "code",
   "execution_count": 4,
   "id": "1116719e-9eb3-47e6-bcca-addb5351ad44",
   "metadata": {},
   "outputs": [
    {
     "name": "stdout",
     "output_type": "stream",
     "text": [
      "[|ITEM ID START|]79008acf2e1641fda3b05f644903d73c[|ITEM ID END|]\n",
      "[|PUBLISH DATE START|]2025-05-07T17:20:02+00:00[|PUBLISH DATE END|]\n",
      "[|SECTION START|]u.s. news[|SECTION END|]: [|TITLE START|]Washington governor signs rent-control bill into law[|TITLE END|]\n",
      "[|SECTION START|]politics[|SECTION END|]: [|TITLE START|]Washington governor signs rent-control bill into law[|TITLE END|]\n",
      "[|SECTION START|]business[|SECTION END|]: [|TITLE START|]Washington governor signs rent-control bill into law[|TITLE END|]\n",
      "[|AUTHOR START|]MARTHA BELLISLE[|AUTHOR END|]\n",
      "[|ARTICLE START|]Washington state Gov. Bob Ferguson signed a bill into law Wednesday that sets limits on rent increases, making the state among the first in the nation to provide protections for tenants.\n",
      "The rent stabilization measure, House Bill 1217, adds Washington to states like Oregon and California that have sought new ways to curb homelessness. \n",
      "Bill sponsor Sen. Emily Alvarado, a West Seattle Democrat, said the measure sets common-sense guardrails on the state’s rental-housing market “so that hardworking families and older adults don’t get unchecked excessive rent increases.”\n",
      "“Housing is not a luxury. It’s a basic human need,” Alvarado said at the bill signing. “And everyone in this state deserves a stable and affordable home.”\n",
      "The measure caps rent increases at 7% plus inflation or 10% — whichever is lower. The restrictions include single-family homes. The rent-increase cap for manufactured homes is 5%. Lawmakers approved the plan on a 54-44 vote, with five Democrats joining the Republican opposition. \n",
      "Ferguson praised Alvarado and the many advocates across the state who worked hard to get the bill passed. \n",
      "It almost didn’t make it. \n",
      "It successfully moved through both houses, but two amendments added on the Senate floor sent it into a conference committee. Those amendments increased the cap from 7% to 10% plus inflation and exempted single-family homes. Opponents of the bill argued that developers would leave the state if it became law and said similar policies in Oregon and California added to those states’ financial burdens instead of slowing the homeless crisis.\n",
      "\n",
      "\n",
      "Oregon’s rent-control bill was passed in 2019 and later updated to cap rent increases at either 7% plus the annual 12-month average change in the consumer price index for the U.S. West, or 10% — whichever is lower.\n",
      "The conference committee got the cap down to 7% plus inflation or 10% — whichever is lower, and restored protections for the 38% of renters who live in single-family homes. With Ferguson’s signature, it’s now law.\n",
      "“This law is a good beginning. It’s long overdue and it’s urgently needed,” Alvarado said. “Forty percent of the people in the state of Washington are renters or manufactured homeowners and before today they had no protections over how high the rent can go, leading to pain and to devastating destabilization of families and communities.”\n",
      "Ferguson also signed nine other bills to help homeowners and renters. He said when he campaigned for governor, affordable housing was the top issue voters raised, so he supports bills to help make it easier to secure housing.\n",
      "“Let’s make this the session of affordable housing,” he said before signing the first measure. \n",
      "The other measures included limits on certain provisions in rental agreements, notices for mobile home communities, and property tax relief for disabled veterans. \n",
      "[|ARTICLE END|]\n",
      "\n"
     ]
    }
   ],
   "source": [
    "print(a.formatted)"
   ]
  },
  {
   "cell_type": "code",
   "execution_count": 516,
   "id": "bca01152-326e-4749-97de-be33718d8325",
   "metadata": {},
   "outputs": [
    {
     "name": "stdout",
     "output_type": "stream",
     "text": [
      "mistral models already downloaded to /home/mpeters/mistral_models/mistralai/Mistral-7B-Instruct-v0.3\n"
     ]
    }
   ],
   "source": [
    "mistral_models_path = Path.home().joinpath(\"mistral_models\", model_name)\n",
    "if mistral_models_path.exists():\n",
    "    print(\n",
    "        f\"mistral models already downloaded to {mistral_models_path}\"\n",
    "    )\n",
    "else:\n",
    "    print(f\"downloading {model_name} to {mistral_models_path}\")\n",
    "    mistral_models_path.mkdir(parents=True, exist_ok=True)\n",
    "    \n",
    "    snapshot_download(\n",
    "        repo_id=model_name,\n",
    "                    allow_patterns=[\n",
    "                    \"params.json\",\n",
    "                    \"consolidated.safetensors\",\n",
    "                    \"tokenizer.model.v3\",\n",
    "                ],\n",
    "        local_dir=mistral_models_path\n",
    ")"
   ]
  },
  {
   "cell_type": "code",
   "execution_count": 517,
   "id": "20e7f99b-adb5-4325-8c7b-bd31749db77b",
   "metadata": {},
   "outputs": [],
   "source": [
    "model = None\n",
    "gc.collect()\n",
    "if torch.cuda.is_available():\n",
    "    torch.cuda.empty_cache()\n",
    "    torch.cuda.ipc_collect()"
   ]
  },
  {
   "cell_type": "code",
   "execution_count": 518,
   "id": "d055d96e-5128-43a0-96b8-0905de94771f",
   "metadata": {},
   "outputs": [],
   "source": [
    "import re\n",
    "\n",
    "def extract_summary_blocks(text, tag_str:str=\"SUMMARY\"):\n",
    "    \"\"\"\n",
    "    Extracts all content between [|SUMMARY START|] and [|SUMMARY END|] tags.\n",
    "    Returns a list of matched strings.\n",
    "    \"\"\"\n",
    "    pattern = r\"\\[\\|\" + tag_str + \" START\\|\\](.*?)\\[\\|\" + tag_str + \" END\\|\\]\"\n",
    "    matches = re.findall(pattern, text, re.DOTALL)\n",
    "    return [match.strip() for match in matches]\n"
   ]
  },
  {
   "cell_type": "code",
   "execution_count": 519,
   "id": "7534fedf-c22b-41a7-acd5-b2540490f39c",
   "metadata": {},
   "outputs": [],
   "source": [
    "model = AutoModelForCausalLM.from_pretrained(\n",
    "        model_name, torch_dtype=torch.float16, device_map=\"cuda\"\n",
    "    )\n",
    "tokenizer = AutoTokenizer.from_pretrained(model_name)\n"
   ]
  },
  {
   "cell_type": "code",
   "execution_count": 520,
   "id": "de1911d6-65d3-4102-992a-85e48f297465",
   "metadata": {},
   "outputs": [],
   "source": [
    "prompt = (\n",
    "\"\"\"\n",
    "<s>\n",
    "[INST]\n",
    "You are a summarization system that produces two- to three-sentence summaries of articles.  \n",
    "\n",
    "# Instructions\n",
    "Summaries should be two- to -three sentences (inside [|SUMMARY START|] ... [|SUMMARY END|]).  The summaries\n",
    "should include one or two significant facts from the article, but should still be terse.  Summaries should use proper names and titles\n",
    "whenever possible and minimize the use of pronouns\n",
    "\n",
    "1. A factual summary of the main events\n",
    "2. A factual summary of the participating individuals and affected places or objects. Always include names and titles.\n",
    "3. A summary of the societal, emotional, or possible future impact\n",
    "\n",
    "## An example is below:\n",
    "----------------------------\n",
    "    Article Context:\n",
    "    [|ITEM ID START|]abcdef0123456789 [|ITEM ID END|]\n",
    "    [|ARTICLE START|]\n",
    "    There is a toybox in my mother's basement that was a gift from my grandfather.  \n",
    "    The toybox contains three blue balls and two brown balls, and a contingent of plastic army men from Company Alpha. \n",
    "    All the balls are different sizes, but all of the soldiers are the same size.  The toybox is red painted \n",
    "    wood with brass hinges and leather handles.\n",
    "    [|ARTICLE END|]\n",
    "\n",
    "    \n",
    "    [|SUMMARY START|] There are three blue balls and two brown balls in the basement toybox. \n",
    "    The toybox also contains Company Alpha army men.[|SUMMARY END|]\n",
    "    [|SUMMARY START|]The article mentions the author's mother and grandfather.[|SUMMARY END|]\n",
    "    [|SUMMARY START|]The article about the author's toybox is rather terse and emotionless.[|SUMMARY END|]\n",
    "----------------------------    \n",
    "\n",
    "\n",
    "Article Context:\n",
    "----------------------------\n",
    "\"\"\" +\n",
    "a.formatted +\n",
    "\"\"\"\n",
    "[/INST]\n",
    "    \n",
    "[|SUMMARY START|]\n",
    "\"\"\"\n",
    ")"
   ]
  },
  {
   "cell_type": "code",
   "execution_count": 521,
   "id": "91dc06b4-7999-4eb9-8157-3d24bc8ad2cf",
   "metadata": {},
   "outputs": [],
   "source": [
    "def generate_summary(prompt:str, qty:int):\n",
    "    input_ids = tokenizer(prompt, return_tensors=\"pt\")[\"input_ids\"]\n",
    "    input_ids = input_ids.to(\"cuda\")\n",
    "    resp = model.generate(input_ids,\n",
    "                    max_length=2048,\n",
    "                    temperature=0.7,\n",
    "                    top_p=0.98,\n",
    "                    do_sample=True,\n",
    "                    num_return_sequences=qty,)\n",
    "    output = []\n",
    "    for i in range(qty):\n",
    "        output.append(tokenizer.decode(resp[i]))\n",
    "    return output"
   ]
  },
  {
   "cell_type": "code",
   "execution_count": 522,
   "id": "a4d43df1-f820-40eb-9f76-543a63d23d0b",
   "metadata": {},
   "outputs": [],
   "source": [
    "q=1\n",
    "summaries = [s for o in generate_summary(prompt,q) for s in extract_summary_blocks(o,\"SUMMARY\")[-3:]  ]"
   ]
  },
  {
   "cell_type": "code",
   "execution_count": 523,
   "id": "9a3885f2-a67c-477d-ab06-5ab03e0dba47",
   "metadata": {},
   "outputs": [
    {
     "name": "stdout",
     "output_type": "stream",
     "text": [
      "['Washington governor Bob Ferguson has signed a rent-control bill into law, setting limits on rent increases. This makes Washington one of the first states to provide tenant protections, following in the footsteps of Oregon and California. The bill caps rent increases at 7% plus inflation or 10%, whichever is lower, and includes protections for single-family home renters. The measure aims to prevent excessive rent increases for hardworking families and older adults, addressing the ongoing homelessness issue.', \"The article was authored by Martha Bellisle and discusses the recent signing of a rent-control bill in Washington state by Governor Bob Ferguson. The bill aims to provide tenant protections, making Washington one of the first states to do so. The bill's sponsor, Sen. Emily Alvarado, emphasized that housing is a basic human need and everyone deserves a stable and affordable home.\", \"The successful passage of the rent-control bill has been met with praise from Governor Ferguson and its sponsor, Sen. Alvarado. They believe the law is a good beginning and long overdue, as it will help protect the 40% of renters in Washington state from unchecked excessive rent increases. The bill's passage is expected to alleviate the pain and destabilization of families and communities caused by rising rents.\"]\n"
     ]
    }
   ],
   "source": [
    "print(summaries)"
   ]
  },
  {
   "cell_type": "code",
   "execution_count": 497,
   "id": "b7fd0b57-7cfa-4ef6-adb9-0a5c9401d366",
   "metadata": {},
   "outputs": [],
   "source": [
    "def qa_prompt(summary:str)->str:\n",
    "    return (\n",
    "\"\"\"\n",
    "<s>\n",
    "[INST]\n",
    "You are a question-and-answer generation system.  Generate a specific, detailed question regarding the events, entities and impacts\n",
    "of the provided summary.  Generate answers that leverage as many meaningful details from the provided summary as necessary to fully \n",
    "answer the question.\n",
    "\n",
    "An example follows:\n",
    "----------------------------    \n",
    "\n",
    "[|SUMMARY START|]\n",
    "There are three blue balls and two brown balls in the basement toybox. The toybox also contains plastic army men from Company Alpha.\n",
    "[|SUMMARY END|]\n",
    "\n",
    "[|QUESTION START|]\n",
    "How many balls are in the basement toybox?\n",
    "[|QUESTION END|]\n",
    "\n",
    "[|ANSWER START|]\n",
    "There are five balls in the basement toybox: two brown and three blue.\n",
    "[|ANSWER END|]\n",
    "\n",
    "[/INST]\n",
    "\n",
    "[|SUMMARY START|]\n",
    "\"\"\" +\n",
    "\n",
    "summary +\n",
    "\"\"\"\n",
    "[|SUMMARY END|]\n",
    "    \n",
    "[|QUESTION START|]\n",
    "\"\"\"\n",
    ")"
   ]
  },
  {
   "cell_type": "code",
   "execution_count": 498,
   "id": "4add23b4-03f9-4744-b65d-c60c1b4e3bd8",
   "metadata": {},
   "outputs": [],
   "source": [
    "questions=[]\n",
    "answers=[]"
   ]
  },
  {
   "cell_type": "code",
   "execution_count": 499,
   "id": "a1004c83-c59f-480a-a0ec-dc02b902a919",
   "metadata": {},
   "outputs": [],
   "source": [
    "def gen_qa(summary:str, qty:int=1):\n",
    "    input_ids = tokenizer(summary, return_tensors=\"pt\")[\"input_ids\"]\n",
    "    input_ids = input_ids.to(\"cuda\")\n",
    "    return model.generate(input_ids,\n",
    "                max_length=2048,\n",
    "                temperature=0.40,\n",
    "                top_p=0.98,\n",
    "                do_sample=True,\n",
    "                num_return_sequences=qty,)"
   ]
  },
  {
   "cell_type": "code",
   "execution_count": 500,
   "id": "20fcbe00-5d24-4852-82ce-08b1db3a6683",
   "metadata": {},
   "outputs": [
    {
     "name": "stdout",
     "output_type": "stream",
     "text": [
      "SUMMARY: Washington Governor Bob Ferguson signed a bill into law that sets limits on rent increases, making it one of the first states to provide rent protection for tenants. The rent stabilization measure caps increases at 7% plus inflation or 10%, whichever is lower, and includes single-family homes. The bill was sponsored by Senator Emily Alvarado, who emphasized the importance of stable and affordable housing for all residents.\n",
      "Q: Why did Senator Emily Alvarado emphasize the importance of the rent stabilization measure?\n",
      "A: Senator Emily Alvarado emphasized the importance of the rent stabilization measure because she believes in providing stable and affordable housing for all residents.\n",
      "\n",
      "SUMMARY: The article was written by Martha Bellisle and published on May 7, 2025, in the U.S. news, politics, and business sections. The article discusses the signing of a rent-control bill in Washington state by Governor Bob Ferguson.\n",
      "Q: What significant event did the article discuss?\n",
      "A: The article discussed the signing of a rent-control bill in Washington state by Governor Bob Ferguson.\n",
      "\n",
      "SUMMARY: The passage of this rent-control bill is expected to have a significant impact on the housing market and homelessness in Washington state. Forty percent of residents are renters or manufactured homeowners, who previously had no protections against excessive rent increases. The bill is part of a series of measures signed by Governor Ferguson aimed at addressing the affordable housing crisis.\n",
      "Q: What is the expected impact of the rent-control bill on the housing market and homelessness in Washington state?\n",
      "A: The passage of the rent-control bill is expected to have a significant impact on the housing market and homelessness in Washington state, although the specifics of this impact are not detailed in the provided summary.\n",
      "\n"
     ]
    }
   ],
   "source": [
    "for s in summaries:\n",
    "    response=gen_qa(qa_prompt(s))\n",
    "    for r in response:\n",
    "        rr = tokenizer.decode(r)\n",
    "        print(\"SUMMARY:\",s)\n",
    "        print(\"Q:\",extract_summary_blocks(rr, \"QUESTION\")[-1])\n",
    "        print(\"A:\",extract_summary_blocks(rr, \"ANSWER\")[-1])\n",
    "        print()\n",
    "        "
   ]
  },
  {
   "cell_type": "code",
   "execution_count": null,
   "id": "2f8945b6-2b0f-4bc5-9959-f4fdda369af9",
   "metadata": {},
   "outputs": [],
   "source": []
  }
 ],
 "metadata": {
  "kernelspec": {
   "display_name": "Python 3 (ipykernel)",
   "language": "python",
   "name": "python3"
  },
  "language_info": {
   "codemirror_mode": {
    "name": "ipython",
    "version": 3
   },
   "file_extension": ".py",
   "mimetype": "text/x-python",
   "name": "python",
   "nbconvert_exporter": "python",
   "pygments_lexer": "ipython3",
   "version": "3.12.7"
  }
 },
 "nbformat": 4,
 "nbformat_minor": 5
}
