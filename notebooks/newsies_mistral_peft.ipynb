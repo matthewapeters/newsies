{
 "cells": [
  {
   "cell_type": "markdown",
   "id": "de80a02e-afe3-4a5d-b1eb-495b4ea83a3a",
   "metadata": {},
   "source": [
    "# Proof-of-Concept for Fine-Tuning Model with PEFT for Daily News"
   ]
  },
  {
   "cell_type": "code",
   "execution_count": null,
   "id": "1156ba97-5325-4862-b86a-9c8fe10748b0",
   "metadata": {},
   "outputs": [],
   "source": [
    "!pip install peft datasets\n",
    "!pip install mistral_inference\n",
    "#!pip install accelerate\n"
   ]
  },
  {
   "cell_type": "code",
   "execution_count": 11,
   "id": "7477afc0-9f24-4c9c-bb37-1071645a4636",
   "metadata": {},
   "outputs": [],
   "source": [
    "import chromadb\n",
    "from transformers import AutoTokenizer, AutoModelForCausalLM, TrainingArguments, Trainer, pipeline\n",
    "import torch\n",
    "from peft import LoraConfig, get_peft_model\n",
    "from datasets import Dataset\n",
    "from tqdm import tqdm\n",
    "from datetime import datetime\n",
    "import spacy"
   ]
  },
  {
   "cell_type": "code",
   "execution_count": 12,
   "id": "8f31bbca-aa42-4731-9c43-e7c891ebd081",
   "metadata": {},
   "outputs": [],
   "source": [
    "import pandas as pd\n",
    "import pyarrow as pa\n",
    "import pyarrow.parquet as pq\n",
    "#from accelerate import dispatch_model\n",
    "\n",
    "# Load spaCy model for Named Entity Recognition (NER)\n",
    "nlp = spacy.load(\"en_core_web_sm\")"
   ]
  },
  {
   "cell_type": "code",
   "execution_count": 13,
   "id": "dc75f983-0e20-4ff6-a431-b6c702cece23",
   "metadata": {},
   "outputs": [],
   "source": [
    "import sys\n",
    "import os\n",
    "\n",
    "project_root = os.path.abspath(\"..\")  # Adjust if needed\n",
    "sys.path.append(project_root)\n",
    "\n",
    "from newsies.chromadb_client import ChromaDBClient, collections, get_all_headlines, find_ordinal\n",
    "from newsies import targets\n"
   ]
  },
  {
   "cell_type": "code",
   "execution_count": 14,
   "id": "c9797f89-715d-40aa-85d8-5e2590dfd495",
   "metadata": {},
   "outputs": [],
   "source": [
    "! mkdir -p ./training_data"
   ]
  },
  {
   "cell_type": "code",
   "execution_count": 15,
   "id": "4d911b62-fbf7-47c9-a8e4-69c0dd33d5fc",
   "metadata": {},
   "outputs": [
    {
     "name": "stdout",
     "output_type": "stream",
     "text": [
      "collection name: ap_news_2025-03-12\n",
      "there are 4142 stories in the collection\n"
     ]
    }
   ],
   "source": [
    "# Step 1: Connect to ChromaDB and Retrieve Data\n",
    "def fetch_news_data():\n",
    "    client = ChromaDBClient()  # Update path\n",
    "    client.collection_name=f\"ap_news_{datetime.now().strftime(r'%Y-%m-%d')}\"\n",
    "    print(f\"collection name: {client.collection.name}\")\n",
    "    collection = client.collection\n",
    "    n  = collection.count()\n",
    "    print(f\"there are {n} stories in the collection\")\n",
    "    results = collection.get(where={\"target\":{\"$eq\":targets.DOCUMENT}}, limit=n)  \n",
    "    return results[\"documents\"], results[\"metadatas\"]\n",
    "\n",
    "news_docs, news_metadata = fetch_news_data()"
   ]
  },
  {
   "cell_type": "code",
   "execution_count": 16,
   "id": "a848c4ab-4304-40d6-b371-cd48b358496f",
   "metadata": {},
   "outputs": [
    {
     "data": {
      "text/plain": [
       "'NEW YORK (AP) — Harvey Weinstein ‘s #MeToo retrial next month will largely be an abridged version of the original, with one big addition: a charge based on an allegation from a woman who wasn’t a part of the first case.\\nJust how the reprise of the disgraced movie mogul’s prosecution plays out is coming into focus at a hearing Wednesday, where a judge is set to issue rulings on a variety of issues, including the scope of accuser testimony and potential expert witnesses.\\nWeinstein, 72, was in court for the hearing, which started more than a hour late after Judge Curtis Farber met with the prosecution and defense behind closed doors to discuss matters still under seal.\\nThose included a prosecution request that two of the three accusers in the case be allowed to testify about other alleged encounters with Weinstein. They also discussed evidence of the accusers’ sexual history, which prosecutors say should be barred under New York’s Rape Shield Law.'"
      ]
     },
     "execution_count": 16,
     "metadata": {},
     "output_type": "execute_result"
    }
   ],
   "source": [
    "news_docs[0]"
   ]
  },
  {
   "cell_type": "code",
   "execution_count": 17,
   "id": "4d5e11ad-cfd3-400d-b1ae-b44bc2e59cea",
   "metadata": {},
   "outputs": [
    {
     "data": {
      "text/plain": [
       "{'chunk_index': 0,\n",
       " 'collection': 'ap_news_2025-03-12',\n",
       " 'date': '2025-03-12',\n",
       " 'embedding_model': 'sentence-transformers/all-MiniLM-L6-v2',\n",
       " 'headline0': 'Harvey Weinstein appears in court  as judge weighs key rulings for his looming #MeToo retrial',\n",
       " 'headline1': 'Harvey Weinstein appears in court as judge weighs key rulings for his looming #MeToo retrial',\n",
       " 'headline2': 'Harvey Weinstein due in court for key rulings as his #MeToo retrial nears',\n",
       " 'section0': '',\n",
       " 'section1': 'politics',\n",
       " 'section2': 'technology',\n",
       " 'target': 'DOCUMENT',\n",
       " 'text': 'NEW YORK (AP) — Harvey Weinstein ‘s #MeToo retrial next month will largely be an abridged version of the original, with one big addition: a charge based on an allegation from a woman who wasn’t a part of the first case.\\nJust how the reprise of the disgraced movie mogul’s prosecution plays out is coming into focus at a hearing Wednesday, where a judge is set to issue rulings on a variety of issues, including the scope of accuser testimony and potential expert witnesses.\\nWeinstein, 72, was in court for the hearing, which started more than a hour late after Judge Curtis Farber met with the prosecution and defense behind closed doors to discuss matters still under seal.\\nThose included a prosecution request that two of the three accusers in the case be allowed to testify about other alleged encounters with Weinstein. They also discussed evidence of the accusers’ sexual history, which prosecutors say should be barred under New York’s Rape Shield Law.',\n",
       " 'uri': './daily_news/20250312/harvey-weinstein-sexual-misconduct-metoo-retrial-2e8f3c99224cf5ad068e7ef5b5907b8d.txt',\n",
       " 'url': 'https://apnews.com/article/harvey-weinstein-sexual-misconduct-metoo-retrial-2e8f3c99224cf5ad068e7ef5b5907b8d'}"
      ]
     },
     "execution_count": 17,
     "metadata": {},
     "output_type": "execute_result"
    }
   ],
   "source": [
    "news_metadata[0]"
   ]
  },
  {
   "cell_type": "markdown",
   "id": "d9ed00ef-c941-4811-8463-2779d22900a2",
   "metadata": {},
   "source": [
    "## Use Flan-T5-large to generate questions for each article and for the named entities in it"
   ]
  },
  {
   "cell_type": "code",
   "execution_count": 27,
   "id": "f9725aba-f002-4ed4-9790-9835cb053e28",
   "metadata": {},
   "outputs": [
    {
     "name": "stderr",
     "output_type": "stream",
     "text": [
      "Device set to use cuda:0\n"
     ]
    }
   ],
   "source": [
    "# Step 2: Generate Question-Answer Pairs using an LLM\n",
    "qa_generator = pipeline(\"text2text-generation\", model=\"google/flan-t5-large\", device=0 if torch.cuda.is_available() else -1)\n",
    "\n",
    "def extract_named_entities(text):\n",
    "    doc = nlp(text)\n",
    "    entities = list(set(ent.text for ent in doc.ents if ent.label_ in {\"PERSON\", \"ORG\", \"GPE\"}))\n",
    "    return entities"
   ]
  },
  {
   "cell_type": "code",
   "execution_count": 28,
   "id": "fc92e308-5182-472e-9cbe-ea3b9d193e05",
   "metadata": {},
   "outputs": [],
   "source": [
    "\n",
    "def save_qa_to_parquet(qa_data, file_path):\n",
    "    df = pd.DataFrame(qa_data)\n",
    "    df.to_parquet(file_path, index=False)\n",
    "\n",
    "def load_qa_from_parquet(file_path):\n",
    "    df = pd.read_parquet(file_path)\n",
    "    return df.to_dict(orient=\"records\")"
   ]
  },
  {
   "cell_type": "code",
   "execution_count": 31,
   "id": "ef226143-0db0-4b23-a330-d22a85b7c431",
   "metadata": {},
   "outputs": [],
   "source": [
    "def generate_qa_pairs(news_docs, news_metadata, batch_size=1000, entity_batch_size=1000):\n",
    "    qa_data = []\n",
    "    total_batches = (len(news_docs) + batch_size - 1) // batch_size\n",
    "\n",
    "    for batch_start in tqdm(range(0, len(news_docs), batch_size), desc=\"Processing Article Batches\"):\n",
    "        batch_docs = news_docs[batch_start:batch_start + batch_size]\n",
    "        batch_meta = news_metadata[batch_start:batch_start + batch_size]\n",
    "\n",
    "        question_prompts = []\n",
    "        entity_prompts = []\n",
    "        entity_mapping = []  # Keep track of which entity question belongs to which article\n",
    "\n",
    "        for doc, meta in zip(batch_docs, batch_meta):\n",
    "            context = f\"{meta['section0'] or 'front-page'}: {doc}\"\n",
    "            if meta[\"section1\"] != \"N/A\":\n",
    "                context += f\"\\n{meta['section1']}: {doc}\"\n",
    "            if meta[\"section2\"] != \"N/A\":\n",
    "                context += f\"\\n{meta['section2']}: {doc}\"\n",
    "\n",
    "            # Extract named entities\n",
    "            entities = extract_named_entities(doc)\n",
    "\n",
    "            # Generate 3 diverse questions about the article\n",
    "            question_prompts.append(\n",
    "                f\"For the following question, return the section, headline, and URI: Generate 3 different questions about the following news article. \"\n",
    "                f\"Include questions that focus on key details, impacts, and reasons. \"\n",
    "                f\"News: {context}\"\n",
    "            )\n",
    "\n",
    "            # Generate questions for each entity separately\n",
    "            for entity in entities:\n",
    "                entity_prompts.append(\n",
    "                    f\"For the following question, return the section, headline, and URI: Generate a question about {entity} in relation to the following news article. \"\n",
    "                    f\"News: {context}\"\n",
    "                )\n",
    "                entity_mapping.append((doc, meta))  # Track which article each entity belongs to\n",
    "\n",
    "        print(datetime.now(), f\"Processing article batch {batch_start // batch_size + 1}/{total_batches}\")\n",
    "\n",
    "        # Generate article-level questions\n",
    "        article_questions = qa_generator(question_prompts, max_length=50, truncation=True)\n",
    "\n",
    "        # Store results for articles\n",
    "        for (doc, meta), article_question_output in zip(zip(batch_docs, batch_meta), article_questions):\n",
    "            questions = article_question_output[\"generated_text\"].split(\"\\n\")\n",
    "            qa_data.append({\n",
    "                \"questions\": questions,\n",
    "                \"context\": doc,\n",
    "                \"answer\": [{\"headline\": meta[\"headline0\"], \"uri\": meta[\"uri\"]}]\n",
    "            })\n",
    "\n",
    "        # Process entity-related questions in batches\n",
    "        total_entity_batches = (len(entity_prompts) + batch_size - 1) // batch_size        \n",
    "        for entity_batch_start in tqdm(range(0, len(entity_prompts), entity_batch_size), desc=\"Processing Entity Batches\"):\n",
    "            entity_batch = entity_prompts[entity_batch_start:entity_batch_start + entity_batch_size]\n",
    "            \n",
    "            print(datetime.now(), f\"Processing named entity batch {entity_batch_start // batch_size + 1}/{total_entity_batches}\")            \n",
    "            entity_results = qa_generator(entity_batch, max_length=50, truncation=True)\n",
    "\n",
    "            for (doc, meta), entity_question_output in zip(entity_mapping[entity_batch_start:entity_batch_start + entity_batch_size], entity_results):\n",
    "                qa_data.append({\n",
    "                    \"questions\": [entity_question_output[\"generated_text\"]],\n",
    "                    \"context\": doc,\n",
    "                    \"answer\": [{\"headline\": meta[\"headline0\"], \"uri\": meta[\"uri\"]}]\n",
    "                })\n",
    "\n",
    "        # Save batch results and clear memory        \n",
    "        batch_file = f\"qa_dataset_batch_{batch_start // batch_size + 1}.parquet\"\n",
    "        save_qa_to_parquet(qa_data, batch_file)\n",
    "        qa_data.clear()\n",
    "\n",
    "        if torch.cuda.is_available():\n",
    "            torch.cuda.empty_cache()\n",
    "\n",
    "    print(datetime.now(), \"All batches processed\")\n"
   ]
  },
  {
   "cell_type": "markdown",
   "id": "728f2c57-df36-4144-bd98-43199ae7a2c4",
   "metadata": {},
   "source": [
    "### Generate the training data"
   ]
  },
  {
   "cell_type": "code",
   "execution_count": 32,
   "id": "46886282-d611-41dd-8019-2a0afb17e94b",
   "metadata": {},
   "outputs": [
    {
     "name": "stderr",
     "output_type": "stream",
     "text": [
      "Processing Article Batches:   0%|                                                                                | 0/3 [00:00<?, ?it/s]"
     ]
    },
    {
     "name": "stdout",
     "output_type": "stream",
     "text": [
      "2025-03-13 07:21:39.571169 Processing article batch 1/3\n"
     ]
    },
    {
     "name": "stderr",
     "output_type": "stream",
     "text": [
      "\n",
      "\u001b[Acessing Entity Batches:   0%|                                                                                 | 0/7 [00:00<?, ?it/s]"
     ]
    },
    {
     "name": "stdout",
     "output_type": "stream",
     "text": [
      "2025-03-13 07:24:20.221756 Processing named entity batch 1/7\n"
     ]
    },
    {
     "name": "stderr",
     "output_type": "stream",
     "text": [
      "\n",
      "\u001b[Acessing Entity Batches:  14%|██████████▎                                                             | 1/7 [02:40<16:03, 160.56s/it]"
     ]
    },
    {
     "name": "stdout",
     "output_type": "stream",
     "text": [
      "2025-03-13 07:27:00.784498 Processing named entity batch 2/7\n"
     ]
    },
    {
     "name": "stderr",
     "output_type": "stream",
     "text": [
      "\n",
      "\u001b[Acessing Entity Batches:  29%|████████████████████▌                                                   | 2/7 [05:22<13:27, 161.41s/it]"
     ]
    },
    {
     "name": "stdout",
     "output_type": "stream",
     "text": [
      "2025-03-13 07:29:42.795059 Processing named entity batch 3/7\n"
     ]
    },
    {
     "name": "stderr",
     "output_type": "stream",
     "text": [
      "\n",
      "\u001b[Acessing Entity Batches:  43%|██████████████████████████████▊                                         | 3/7 [08:05<10:47, 161.96s/it]"
     ]
    },
    {
     "name": "stdout",
     "output_type": "stream",
     "text": [
      "2025-03-13 07:32:25.411027 Processing named entity batch 4/7\n"
     ]
    },
    {
     "name": "stderr",
     "output_type": "stream",
     "text": [
      "\n",
      "\u001b[Acessing Entity Batches:  57%|█████████████████████████████████████████▏                              | 4/7 [10:42<07:59, 160.00s/it]"
     ]
    },
    {
     "name": "stdout",
     "output_type": "stream",
     "text": [
      "2025-03-13 07:35:02.392411 Processing named entity batch 5/7\n"
     ]
    },
    {
     "name": "stderr",
     "output_type": "stream",
     "text": [
      "\n",
      "\u001b[Acessing Entity Batches:  71%|███████████████████████████████████████████████████▍                    | 5/7 [13:32<05:27, 163.58s/it]"
     ]
    },
    {
     "name": "stdout",
     "output_type": "stream",
     "text": [
      "2025-03-13 07:37:52.326540 Processing named entity batch 6/7\n"
     ]
    },
    {
     "name": "stderr",
     "output_type": "stream",
     "text": [
      "\n",
      "\u001b[Acessing Entity Batches:  86%|█████████████████████████████████████████████████████████████▋          | 6/7 [16:13<02:42, 162.95s/it]"
     ]
    },
    {
     "name": "stdout",
     "output_type": "stream",
     "text": [
      "2025-03-13 07:40:34.045242 Processing named entity batch 7/7\n"
     ]
    },
    {
     "name": "stderr",
     "output_type": "stream",
     "text": [
      "\n",
      "Processing Entity Batches: 100%|████████████████████████████████████████████████████████████████████████| 7/7 [18:52<00:00, 161.85s/it]\n",
      "Processing Article Batches:  33%|███████████████████████▎                                              | 1/3 [21:48<43:37, 1308.94s/it]"
     ]
    },
    {
     "name": "stdout",
     "output_type": "stream",
     "text": [
      "2025-03-13 07:43:27.510871 Processing article batch 2/3\n"
     ]
    },
    {
     "name": "stderr",
     "output_type": "stream",
     "text": [
      "\n",
      "\u001b[Acessing Entity Batches:   0%|                                                                                 | 0/7 [00:00<?, ?it/s]"
     ]
    },
    {
     "name": "stdout",
     "output_type": "stream",
     "text": [
      "2025-03-13 07:46:09.182424 Processing named entity batch 1/7\n"
     ]
    },
    {
     "name": "stderr",
     "output_type": "stream",
     "text": [
      "\n",
      "\u001b[Acessing Entity Batches:  14%|██████████▎                                                             | 1/7 [02:54<17:26, 174.35s/it]"
     ]
    },
    {
     "name": "stdout",
     "output_type": "stream",
     "text": [
      "2025-03-13 07:49:03.533733 Processing named entity batch 2/7\n"
     ]
    },
    {
     "name": "stderr",
     "output_type": "stream",
     "text": [
      "\n",
      "\u001b[Acessing Entity Batches:  29%|████████████████████▌                                                   | 2/7 [05:45<14:20, 172.19s/it]"
     ]
    },
    {
     "name": "stdout",
     "output_type": "stream",
     "text": [
      "2025-03-13 07:51:54.208713 Processing named entity batch 3/7\n"
     ]
    },
    {
     "name": "stderr",
     "output_type": "stream",
     "text": [
      "\n",
      "\u001b[Acessing Entity Batches:  43%|██████████████████████████████▊                                         | 3/7 [08:37<11:29, 172.46s/it]"
     ]
    },
    {
     "name": "stdout",
     "output_type": "stream",
     "text": [
      "2025-03-13 07:54:46.999430 Processing named entity batch 4/7\n"
     ]
    },
    {
     "name": "stderr",
     "output_type": "stream",
     "text": [
      "\n",
      "\u001b[Acessing Entity Batches:  57%|█████████████████████████████████████████▏                              | 4/7 [11:20<08:25, 168.43s/it]"
     ]
    },
    {
     "name": "stdout",
     "output_type": "stream",
     "text": [
      "2025-03-13 07:57:29.245051 Processing named entity batch 5/7\n"
     ]
    },
    {
     "name": "stderr",
     "output_type": "stream",
     "text": [
      "\n",
      "\u001b[Acessing Entity Batches:  71%|███████████████████████████████████████████████████▍                    | 5/7 [14:03<05:33, 166.52s/it]"
     ]
    },
    {
     "name": "stdout",
     "output_type": "stream",
     "text": [
      "2025-03-13 08:00:12.370961 Processing named entity batch 6/7\n"
     ]
    },
    {
     "name": "stderr",
     "output_type": "stream",
     "text": [
      "\n",
      "\u001b[Acessing Entity Batches:  86%|█████████████████████████████████████████████████████████████▋          | 6/7 [16:52<02:47, 167.60s/it]"
     ]
    },
    {
     "name": "stdout",
     "output_type": "stream",
     "text": [
      "2025-03-13 08:03:02.064344 Processing named entity batch 7/7\n"
     ]
    },
    {
     "name": "stderr",
     "output_type": "stream",
     "text": [
      "\n",
      "Processing Entity Batches: 100%|████████████████████████████████████████████████████████████████████████| 7/7 [17:46<00:00, 152.39s/it]\n",
      "Processing Article Batches:  67%|██████████████████████████████████████████████▋                       | 2/3 [42:31<21:09, 1269.89s/it]"
     ]
    },
    {
     "name": "stdout",
     "output_type": "stream",
     "text": [
      "2025-03-13 08:04:09.949738 Processing article batch 3/3\n"
     ]
    },
    {
     "name": "stderr",
     "output_type": "stream",
     "text": [
      "\n",
      "\u001b[Acessing Entity Batches:   0%|                                                                                 | 0/6 [00:00<?, ?it/s]"
     ]
    },
    {
     "name": "stdout",
     "output_type": "stream",
     "text": [
      "2025-03-13 08:06:45.214458 Processing named entity batch 1/6\n"
     ]
    },
    {
     "name": "stderr",
     "output_type": "stream",
     "text": [
      "\n",
      "\u001b[Acessing Entity Batches:  17%|████████████                                                            | 1/6 [02:41<13:28, 161.64s/it]"
     ]
    },
    {
     "name": "stdout",
     "output_type": "stream",
     "text": [
      "2025-03-13 08:09:26.859152 Processing named entity batch 2/6\n"
     ]
    },
    {
     "name": "stderr",
     "output_type": "stream",
     "text": [
      "\n",
      "\u001b[Acessing Entity Batches:  33%|████████████████████████                                                | 2/6 [05:30<11:03, 165.93s/it]"
     ]
    },
    {
     "name": "stdout",
     "output_type": "stream",
     "text": [
      "2025-03-13 08:12:15.793945 Processing named entity batch 3/6\n"
     ]
    },
    {
     "name": "stderr",
     "output_type": "stream",
     "text": [
      "\n",
      "\u001b[Acessing Entity Batches:  50%|████████████████████████████████████                                    | 3/6 [08:12<08:12, 164.31s/it]"
     ]
    },
    {
     "name": "stdout",
     "output_type": "stream",
     "text": [
      "2025-03-13 08:14:58.162742 Processing named entity batch 4/6\n"
     ]
    },
    {
     "name": "stderr",
     "output_type": "stream",
     "text": [
      "\n",
      "\u001b[Acessing Entity Batches:  67%|████████████████████████████████████████████████                        | 4/6 [11:05<05:35, 167.55s/it]"
     ]
    },
    {
     "name": "stdout",
     "output_type": "stream",
     "text": [
      "2025-03-13 08:17:50.698864 Processing named entity batch 5/6\n"
     ]
    },
    {
     "name": "stderr",
     "output_type": "stream",
     "text": [
      "\n",
      "\u001b[Acessing Entity Batches:  83%|████████████████████████████████████████████████████████████            | 5/6 [13:50<02:46, 166.65s/it]"
     ]
    },
    {
     "name": "stdout",
     "output_type": "stream",
     "text": [
      "2025-03-13 08:20:35.744719 Processing named entity batch 6/6\n"
     ]
    },
    {
     "name": "stderr",
     "output_type": "stream",
     "text": [
      "\n",
      "Processing Entity Batches: 100%|████████████████████████████████████████████████████████████████████████| 6/6 [15:54<00:00, 159.10s/it]\n",
      "Processing Article Batches: 100%|████████████████████████████████████████████████████████████████████| 3/3 [1:01:15<00:00, 1225.11s/it]"
     ]
    },
    {
     "name": "stdout",
     "output_type": "stream",
     "text": [
      "2025-03-13 08:22:39.813166 All batches processed\n"
     ]
    },
    {
     "name": "stderr",
     "output_type": "stream",
     "text": [
      "\n"
     ]
    }
   ],
   "source": [
    "generate_qa_pairs(news_docs, news_metadata)"
   ]
  },
  {
   "cell_type": "code",
   "execution_count": 33,
   "id": "7c239ef8-c50b-4fb4-82a6-cf055bb0c164",
   "metadata": {},
   "outputs": [],
   "source": [
    "\n",
    "training_data=pd.read_parquet(project_root+\"/notebooks/training_data\")"
   ]
  },
  {
   "cell_type": "code",
   "execution_count": 34,
   "id": "1270a3da-f97c-416f-abb7-a77796b6232c",
   "metadata": {},
   "outputs": [
    {
     "data": {
      "text/plain": [
       "question        0\n",
       "context     22023\n",
       "answer      22023\n",
       "dtype: int64"
      ]
     },
     "execution_count": 34,
     "metadata": {},
     "output_type": "execute_result"
    }
   ],
   "source": [
    "training_data[training_data[\"question\"].isnull()].count()"
   ]
  },
  {
   "cell_type": "code",
   "execution_count": 35,
   "id": "bd4a9b1d-6eb9-4b2f-afa7-0f8f8198056e",
   "metadata": {},
   "outputs": [
    {
     "data": {
      "text/plain": [
       "question    3023\n",
       "context     3023\n",
       "answer      3023\n",
       "dtype: int64"
      ]
     },
     "execution_count": 35,
     "metadata": {},
     "output_type": "execute_result"
    }
   ],
   "source": [
    "training_data[training_data[\"question\"].notna()].count()"
   ]
  },
  {
   "cell_type": "code",
   "execution_count": 41,
   "id": "bcc68aa5-f458-42aa-b65a-a36242de90c3",
   "metadata": {},
   "outputs": [
    {
     "name": "stdout",
     "output_type": "stream",
     "text": [
      "0                                                                    What is the main reason for the rise in food poisoning in November and December?\n",
      "1                           What is the first time in the past 19 years that there has been no team entering the March Madness with zero or one loss?\n",
      "2                                                                                                                      What team did Palmer play for?\n",
      "3                                                                                    What is the name of the planet that is visible to the naked eye?\n",
      "4                                                                                         What is the name of the hospital where Richard Webby works?\n",
      "5                                  What is the estimated cost of reconstruction and recovery for Lebanon following the 14-month Israel-Hezbollah war?\n",
      "6                                                                            What is the name of the court that rejected Calin Georgescu's candidacy?\n",
      "7                                                                                           What is the name of the state that sued the distributors?\n",
      "8                                                                                            What was the worst week for the S&P 500 since September?\n",
      "9                                                                                        What is the name of the asteroid that slammed into the moon?\n",
      "10                             What was the name of the man who provided detailed testimony of how he brutally stabbed his friend’s ex-wife 35 times?\n",
      "11                                                                                      What is the name of the fund that the US is withdrawing from?\n",
      "12                                                                                                  What was the house on the verge of tumbling into?\n",
      "13                                           What is the name of the agency that the Trump administration is moving the remaining aid programs under?\n",
      "14                                                                                         What is the name of the state that has a special election?\n",
      "15                                                                                                          What is the Dow Jones Industrial Average?\n",
      "16                                                                                What is the name of the stock that was down 0.6% in midday trading?\n",
      "17                                                                   What is the name of the culture that flourished before the arrival of Europeans?\n",
      "18                                                                                    What is the name of the opposition party that won the election?\n",
      "19                                                                               What is the name of the newspaper that Justice for Myanmar wrote to?\n",
      "20                                                                                          What was the cause of death of Gene Hackman and his wife?\n",
      "21                                                          What is the name of the company that reported a surge in fourth-quarter profit and sales?\n",
      "22                                                                                                                       What is the name of the CIA?\n",
      "23                                                                                                                        What is the moon's gravity?\n",
      "24                                                                                              What is the name of the European Commission proposal?\n",
      "25                                                                                                       How many first place votes did UCLA receive?\n",
      "26                                                                                                                            What is the pope's age?\n",
      "27                                                                                      What is the name of the artist who painted Madonna and Child?\n",
      "28                                                                                                                      What is the Bridegroom's Oak?\n",
      "29                                                  What was the name of the network that Elon Musk said was being targeted in a massive cyberattack?\n",
      "30                                                                                                                  What is the name of the painting?\n",
      "31                                                                                                                  What was Guo Qingshan's hometown?\n",
      "32                                                                           What is the name of the hospital where the eye transplant was performed?\n",
      "33                                                                                                  What is the name of the prime minister of Canada?\n",
      "34                                                                  What is the name of the wine that is reviving traditional wine-making techniques?\n",
      "35                                                                                                               What is the main reason for the ban?\n",
      "36                            What is the name of the scientist who discovered the whereabouts of young sea turtles during a key part of their lives?\n",
      "37                                                                                                                     What sport is Oregon football?\n",
      "38                                                                                                                     What is the par of the course?\n",
      "39                                                                                       What is the name of the pitcher from the Dominican Republic?\n",
      "40                                                               What is the name of the government program that doesn't cover the drugs for obesity?\n",
      "41                                                                                     What is the name of the commission that was created by the UN?\n",
      "42                                                                                                     How many people have died of measles in Texas?\n",
      "43                                                                                            What was the name of the person who learned he had HIV?\n",
      "44                                                                                                                What was the pope hospitalized for?\n",
      "45                                                                                                              What will the pilot program focus on?\n",
      "46                                                                         What is the name of the pharmacy chain that is closing hundreds of stores?\n",
      "47                                                                                 What is the name of the company that Microsoft is partnering with?\n",
      "48                                                                                                        How many cases have been reported in Texas?\n",
      "49                                                                                                       What is the name of the ancient fish canals?\n",
      "50                                                                                                What is the name of the college basketball program?\n",
      "51                                                                                                               What was the name of the astronauts?\n",
      "52                                                                What is the name of the department that is expected to lose probationary employees?\n",
      "53                                                                                                    What was the woman's condition before she died?\n",
      "54                                                                            What is Kate Bulkeley's pledge to stay off social media in high school?\n",
      "55                                                                                                                 What state borders New York state?\n",
      "56                                                                                              What is the name of the father of two young children?\n",
      "57                                                                               What is the name of the department that Chavez-DeRemer will oversee?\n",
      "58                                                                         What is the name of the community that has been the focus of the outbreak?\n",
      "59                                                                                                                    What is the name of the strait?\n",
      "60                                                                      What was the first church service in Finland put together mostly by AI tools?\n",
      "61                                                                                                          What sect is the Haydar family a part of?\n",
      "62                                                                                              What is the name of the Republican senator in Alaska?\n",
      "63                                                                                                         What is the name of Ahmed Othman's sister?\n",
      "64                                                                                       What instrument on Voyager 2 will shut off later this month?\n",
      "65                                                                                                               What is the NET rating of Princeton?\n",
      "66                                                                                                  What is the name of the English League Cup final?\n",
      "67                                                                                                             What is the main cause of the problem?\n",
      "68                                                              What is the name of the school that named Darris Nichols as its new basketball coach?\n",
      "69                                                                                                    What is the main purpose of fluoride treatment?\n",
      "70                                                                               What is the name of the court that ordered Rodrigo Duterte's arrest?\n",
      "71                                                                                              What is the name of the asteroid that was discovered?\n",
      "72                                                                                                      What is the name of the private lunar lander?\n",
      "73                                                                                       What is the technology used to create the videos and images?\n",
      "74                                                                   What is the name of the rocket that was launched from the southern tip of Texas?\n",
      "75                                                                                                    What team did the 49ers play in the Super Bowl?\n",
      "76                                                                                                                   What was the goal of the strike?\n",
      "77                                                                                         What is the name of the golf course where Horschel played?\n",
      "78                                                                                                 What was the age difference between the two women?\n",
      "79                                                                                                      How many drones were destroyed in the attack?\n",
      "80    What is the name of the decentralized platform that Project Liberty says it will leverage to provide users more control over their online data?\n",
      "81                                                    What is the name of the movie that Amazon is testing artificial intelligence-aided dubbing for?\n",
      "82                                                                                     What is the name of the city where the blockade was organized?\n",
      "83                                                                                                What can lip balm help seal moisture into the lips?\n",
      "84                                                                                                     How many goals did PSG score in the first leg?\n",
      "85                                                                                                 What is the name of the new agriculture secretary?\n",
      "86                                                                                                                            What is the dog's name?\n",
      "87                                                                                                           What was Justin Stewart's full-time job?\n",
      "88                                                                                                     What is the name of the city that was flooded?\n",
      "89                                                                                                             What is the main topic of the article?\n",
      "90                                                                                                       What can be brutal for patients with cancer?\n",
      "91                                                                                                            What are the categories for the Oscars?\n",
      "92                                                                                                                               What is the QR code?\n",
      "93                                                                    What is the name of the hospital where the woman was transplanted a pig kidney?\n",
      "94                                                                                             What was the name of the privately owned lunar lander?\n",
      "95                                                                                                                        What is the patient's name?\n",
      "96                                                                                                                       What is the volcano of fire?\n",
      "97                                                                                                                 What is the cost per cycle of IVF?\n",
      "98                                                             What is the name of the hospital where Towana Looney received a pig kidney transplant?\n",
      "99                                                                                                                      What is the name of the film?\n",
      "Name: question, dtype: object\n"
     ]
    }
   ],
   "source": [
    "pd.set_option('display.max_columns', None)\n",
    "pd.set_option('display.max_rows', None)\n",
    "pd.set_option('display.max_colwidth', None)\n",
    "\n",
    "print(training_data[training_data[\"question\"].notna()][\"question\"].head(100))"
   ]
  },
  {
   "cell_type": "code",
   "execution_count": 44,
   "id": "95c6ab21-abc3-4d26-acb7-504b93a3be9b",
   "metadata": {},
   "outputs": [
    {
     "name": "stdout",
     "output_type": "stream",
     "text": [
      "['qa_dataset_batch_2.parquet', 'newsies_mistral_peft.ipynb', 'ngrams.ipynb', 'qa_dataset.parquet', 'story_named_entity_embedding.ipynb', 'qa_dataset_batch_1.parquet', '.ipynb_checkpoints', 'qa_dataset_batch_3.parquet', 'news_finetune_model']\n"
     ]
    }
   ],
   "source": [
    "print(os.listdir(project_root+\"/notebooks\"))"
   ]
  },
  {
   "cell_type": "markdown",
   "id": "21da92a4-4ae2-4db7-9e10-da48d8249122",
   "metadata": {},
   "source": [
    "## Remove the Flan-T5 model from GPU"
   ]
  },
  {
   "cell_type": "code",
   "execution_count": null,
   "id": "ade04c69-1734-4a07-85b7-55731a8c2458",
   "metadata": {},
   "outputs": [],
   "source": [
    "del qa_generator\n",
    "torch.cuda.empty_cache()"
   ]
  },
  {
   "cell_type": "code",
   "execution_count": 10,
   "id": "16fa8987-5a1e-4b5a-ac82-b15e987ed1f7",
   "metadata": {},
   "outputs": [
    {
     "data": {
      "application/vnd.jupyter.widget-view+json": {
       "model_id": "e53d155a770645a08df9aee01274b3ec",
       "version_major": 2,
       "version_minor": 0
      },
      "text/plain": [
       "Fetching 3 files:   0%|          | 0/3 [00:00<?, ?it/s]"
      ]
     },
     "metadata": {},
     "output_type": "display_data"
    },
    {
     "data": {
      "application/vnd.jupyter.widget-view+json": {
       "model_id": "3526132fef9348ca896b4bb9b31c54ab",
       "version_major": 2,
       "version_minor": 0
      },
      "text/plain": [
       "params.json:   0%|          | 0.00/202 [00:00<?, ?B/s]"
      ]
     },
     "metadata": {},
     "output_type": "display_data"
    },
    {
     "data": {
      "application/vnd.jupyter.widget-view+json": {
       "model_id": "11a135f28e614c4799a11a387f2cc7fa",
       "version_major": 2,
       "version_minor": 0
      },
      "text/plain": [
       "tokenizer.model.v3:   0%|          | 0.00/587k [00:00<?, ?B/s]"
      ]
     },
     "metadata": {},
     "output_type": "display_data"
    },
    {
     "data": {
      "application/vnd.jupyter.widget-view+json": {
       "model_id": "a93d589c0fdb4a26b85135a0f3f4f05a",
       "version_major": 2,
       "version_minor": 0
      },
      "text/plain": [
       "consolidated.safetensors:   0%|          | 0.00/14.5G [00:00<?, ?B/s]"
      ]
     },
     "metadata": {},
     "output_type": "display_data"
    },
    {
     "data": {
      "text/plain": [
       "'/home/mpeters/mistral_models/7B-v0.3'"
      ]
     },
     "execution_count": 10,
     "metadata": {},
     "output_type": "execute_result"
    }
   ],
   "source": [
    "from huggingface_hub import snapshot_download\n",
    "from pathlib import Path\n",
    "\n",
    "mistral_models_path = Path.home().joinpath('mistral_models', '7B-v0.3')\n",
    "mistral_models_path.mkdir(parents=True, exist_ok=True)\n",
    "\n",
    "snapshot_download(repo_id=\"mistralai/Mistral-7B-v0.3\", allow_patterns=[\"params.json\", \"consolidated.safetensors\", \"tokenizer.model.v3\"], local_dir=mistral_models_path)\n"
   ]
  },
  {
   "cell_type": "code",
   "execution_count": 24,
   "id": "ce414613-b437-47e1-97e0-40a936d7af9b",
   "metadata": {},
   "outputs": [],
   "source": [
    "# Step 4: Prepare Data for Fine-Tuning\n",
    "def format_dataset(qa_dataset):\n",
    "    dataset = Dataset.from_pandas(pd.DataFrame([{ \"input_text\": item[\"question\"], \"output_text\": str(item[\"answer\"]) } for item in qa_dataset]))\n",
    "    return dataset.train_test_split(test_size=0.2)\n",
    "\n",
    "split_dataset = format_dataset(qa_dataset)\n",
    "train_dataset = split_dataset[\"train\"]\n",
    "test_dataset = split_dataset[\"test\"]\n"
   ]
  },
  {
   "cell_type": "code",
   "execution_count": 33,
   "id": "d5703a20-e102-486a-9975-3336affd5a6a",
   "metadata": {},
   "outputs": [
    {
     "data": {
      "application/vnd.jupyter.widget-view+json": {
       "model_id": "d4f80f250470449cb0f57d6ca4d649c4",
       "version_major": 2,
       "version_minor": 0
      },
      "text/plain": [
       "Loading checkpoint shards:   0%|          | 0/3 [00:00<?, ?it/s]"
      ]
     },
     "metadata": {},
     "output_type": "display_data"
    }
   ],
   "source": [
    "# Step 5: Load Model and Apply LoRA Fine-Tuning\n",
    "base_model_name = \"mistralai/Mistral-7B-v0.3\"\n",
    "tokenizer = AutoTokenizer.from_pretrained(base_model_name)\n",
    "model = AutoModelForCausalLM.from_pretrained(base_model_name, torch_dtype=torch.float16, device_map=\"auto\")"
   ]
  },
  {
   "cell_type": "code",
   "execution_count": null,
   "id": "072320d6-e9f7-45bb-98b8-6fa54c106b21",
   "metadata": {},
   "outputs": [],
   "source": []
  },
  {
   "cell_type": "code",
   "execution_count": null,
   "id": "b266802f-7847-4268-85cd-88082b761896",
   "metadata": {},
   "outputs": [],
   "source": [
    "# LoRA Configuration\n",
    "lora_config = LoraConfig(\n",
    "    r=8, lora_alpha=32, target_modules=[\"q_proj\", \"v_proj\"], lora_dropout=0.05, bias=\"none\"\n",
    ")\n",
    "model = get_peft_model(model, lora_config)\n",
    "\n",
    "# Training Arguments\n",
    "training_args = TrainingArguments(\n",
    "    output_dir=\"./news_finetune_model\",\n",
    "    per_device_train_batch_size=1,\n",
    "    num_train_epochs=3,\n",
    "    logging_steps=10,\n",
    "    save_strategy=\"epoch\",\n",
    "    evaluation_strategy=\"epoch\",\n",
    "    fp16=True,\n",
    "    optim=\"adamw_torch\",\n",
    ")\n",
    "\n",
    "trainer = Trainer(\n",
    "    model=model,\n",
    "    args=training_args,\n",
    "    train_dataset=train_dataset,\n",
    "    eval_dataset=test_dataset,\n",
    "    tokenizer=tokenizer,\n",
    ")\n",
    "\n",
    "trainer.train()"
   ]
  },
  {
   "cell_type": "code",
   "execution_count": null,
   "id": "5b9a62f6-8e30-4beb-8c5d-988d6484e435",
   "metadata": {},
   "outputs": [],
   "source": [
    "# Step 5: Evaluate the Fine-Tuned Model\n",
    "def evaluate_model(sample_question):\n",
    "    inputs = tokenizer(sample_question, return_tensors=\"pt\").to(\"cuda\")\n",
    "    output = model.generate(**inputs, max_new_tokens=50)\n",
    "    return tokenizer.decode(output[0], skip_special_tokens=True)\n",
    "\n",
    "sample_question = qa_dataset[0][\"question\"]\n",
    "response = evaluate_model(sample_question)\n",
    "print(f\"Q: {sample_question}\\nA: {response}\")\n"
   ]
  }
 ],
 "metadata": {
  "kernelspec": {
   "display_name": "Python 3 (ipykernel)",
   "language": "python",
   "name": "python3"
  },
  "language_info": {
   "codemirror_mode": {
    "name": "ipython",
    "version": 3
   },
   "file_extension": ".py",
   "mimetype": "text/x-python",
   "name": "python",
   "nbconvert_exporter": "python",
   "pygments_lexer": "ipython3",
   "version": "3.12.7"
  }
 },
 "nbformat": 4,
 "nbformat_minor": 5
}
