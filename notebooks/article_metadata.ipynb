{
 "cells": [
  {
   "cell_type": "code",
   "execution_count": 1,
   "id": "54e33067-141f-4e10-bea9-ee71f4ec2920",
   "metadata": {},
   "outputs": [],
   "source": [
    "import bs4\n",
    "import json\n",
    "import requests"
   ]
  },
  {
   "cell_type": "code",
   "execution_count": 17,
   "id": "01f12980-3f36-426f-ac7b-75f7e3ec30fb",
   "metadata": {},
   "outputs": [],
   "source": [
    "website=\"https://apnews.com\"\n",
    "resp = requests.get(website)"
   ]
  },
  {
   "cell_type": "code",
   "execution_count": 18,
   "id": "5abd414e-9ae1-494e-b969-52fa43aabe9b",
   "metadata": {},
   "outputs": [],
   "source": [
    "soup = bs4.BeautifulSoup(resp.content, \"html.parser\")"
   ]
  },
  {
   "cell_type": "code",
   "execution_count": 19,
   "id": "7e0a26a2-7888-4c14-b83f-388d8a82f493",
   "metadata": {},
   "outputs": [],
   "source": [
    "links = soup.find_all(\"a\")"
   ]
  },
  {
   "cell_type": "code",
   "execution_count": 20,
   "id": "6d053991-9721-4adb-a061-907f8bf72370",
   "metadata": {},
   "outputs": [],
   "source": [
    "articles = [a for a in links if a.get(\"href\",\"noHREF\").startswith(f\"{website}/article\")]"
   ]
  },
  {
   "cell_type": "code",
   "execution_count": 81,
   "id": "089a6d6f-a20a-4589-a98b-c9db266087b5",
   "metadata": {},
   "outputs": [],
   "source": [
    "url = articles[1].get(\"href\")\n",
    "resp = requests.get(url)\n",
    "soup = bs4.BeautifulSoup(resp.content, \"html.parser\")"
   ]
  },
  {
   "cell_type": "code",
   "execution_count": 90,
   "id": "7679c67b-6532-4617-9f3f-0a66ebb88a4b",
   "metadata": {},
   "outputs": [],
   "source": [
    "metas = soup.find_all(\"meta\")\n",
    "open_graph = [mm for mm in metas if mm.get(\"property\",\"unknown\").startswith(\"og\")]\n",
    "article = [mm for mm in metas if mm.get(\"property\",\"unknown\").startswith(\"article\")]\n",
    "keywords = [mm for mm in metas if mm.get(\"name\",\"unknown\") in [\"keywords\",\"ntv-kv\"]]"
   ]
  },
  {
   "cell_type": "code",
   "execution_count": null,
   "id": "e6e6c525-c122-4d7f-9ccd-2c2bcfb91bc6",
   "metadata": {},
   "outputs": [],
   "source": [
    "for m in [mm for mm in metas if mm.get(\"property\",\"unknown\")==\"unknown\"]:\n",
    "    print(m)"
   ]
  },
  {
   "cell_type": "code",
   "execution_count": 84,
   "id": "4d648dff-718f-49c8-9fae-c92262181c1a",
   "metadata": {},
   "outputs": [
    {
     "data": {
      "text/plain": [
       "{'og:title': 'Israel fires on Lebanon after rocket attack in the heaviest exchange since the truce with Hezbollah',\n",
       " 'og:url': 'https://apnews.com/article/israel-palestinians-hamas-war-news-03-22-2025-32ca8fa2c5f6e887e1d51b9ffea6f836',\n",
       " 'og:image': 'https://dims.apnews.com/dims4/default/c076034/2147483647/strip/true/crop/6000x3375+0+312/resize/1440x810!/quality/90/?url=https%3A%2F%2Fassets.apnews.com%2Ff0%2Fbe%2Faa81bcec0154491a1d802ad895e5%2F287b1ef6afe34f0f8ba8fc6803187bbc',\n",
       " 'og:image:url': 'https://dims.apnews.com/dims4/default/c076034/2147483647/strip/true/crop/6000x3375+0+312/resize/1440x810!/quality/90/?url=https%3A%2F%2Fassets.apnews.com%2Ff0%2Fbe%2Faa81bcec0154491a1d802ad895e5%2F287b1ef6afe34f0f8ba8fc6803187bbc',\n",
       " 'og:image:width': '1440',\n",
       " 'og:image:height': '810',\n",
       " 'og:image:type': 'image/jpeg',\n",
       " 'og:image:alt': 'Surrounded by smoke from a nearby Israeli army strike, Palestinians walk past tents in central Gaza City on Saturday, March 22, 2025. (AP Photo/Jehad Alshrafi)',\n",
       " 'og:description': 'Earlier, rockets were fired from Lebanon into Israel for the second time since December.',\n",
       " 'og:site_name': 'AP News',\n",
       " 'og:type': 'article'}"
      ]
     },
     "execution_count": 84,
     "metadata": {},
     "output_type": "execute_result"
    }
   ],
   "source": [
    "open_graph = {og.get(\"property\"):og.get(\"content\") for og in open_graph}\n",
    "open_graph"
   ]
  },
  {
   "cell_type": "code",
   "execution_count": 91,
   "id": "0b7add09-600c-48d4-82df-ea9e4688863d",
   "metadata": {},
   "outputs": [
    {
     "data": {
      "text/plain": [
       "{'article:published_time': '2025-03-22T09:45:39',\n",
       " 'article:modified_time': '2025-03-22T22:52:31.839',\n",
       " 'article:section': 'World News',\n",
       " 'article:tag': 'Hamas'}"
      ]
     },
     "execution_count": 91,
     "metadata": {},
     "output_type": "execute_result"
    }
   ],
   "source": [
    "article = {a.get(\"property\"):a.get(\"content\") for a in article}\n",
    "article"
   ]
  },
  {
   "cell_type": "code",
   "execution_count": 86,
   "id": "0d1ca36d-f528-4f38-8d9a-d217585917a3",
   "metadata": {},
   "outputs": [
    {
     "data": {
      "text/plain": [
       "['Fires',\n",
       " 'International agreements',\n",
       " 'Israelgovernment',\n",
       " 'Warandunrest',\n",
       " 'Internationalagreements',\n",
       " 'Hostage situations',\n",
       " 'Lebanon',\n",
       " 'Yair Lapid',\n",
       " 'MiddleEast',\n",
       " 'Generalnews',\n",
       " 'Religion',\n",
       " 'War and unrest',\n",
       " 'World news',\n",
       " 'YairLapid',\n",
       " 'Hamas',\n",
       " 'General news',\n",
       " 'Middle East',\n",
       " 'Samir al-Mashharawi',\n",
       " 'Samiral-Mashharawi',\n",
       " 'Israel government',\n",
       " 'Hezbollah',\n",
       " 'Worldnews',\n",
       " 'Israel',\n",
       " 'BenjaminNetanyahu',\n",
       " 'Benjamin Netanyahu',\n",
       " '2024 Mideast Wars',\n",
       " 'Hostagesituations',\n",
       " '2024MideastWars']"
      ]
     },
     "execution_count": 86,
     "metadata": {},
     "output_type": "execute_result"
    }
   ],
   "source": [
    "keywords = [kw.strip() for k in keywords for kw in (k.get(\"content\")or k.get(\"values\")).split(\",\") ]\n",
    "keywords.sort()\n",
    "keywords = list(set(keywords))\n",
    "keywords"
   ]
  },
  {
   "cell_type": "code",
   "execution_count": 94,
   "id": "a8925bf6-78be-40a8-b303-734339ed2c9b",
   "metadata": {},
   "outputs": [],
   "source": [
    "perm_ds = [json.loads(m[\"content\"]) for m in metas if m.get(\"name\") == \"permutive-dataLayer\"][0]"
   ]
  },
  {
   "cell_type": "code",
   "execution_count": 95,
   "id": "6efe2dd2-beea-45a0-971a-a7451b5a74db",
   "metadata": {},
   "outputs": [
    {
     "data": {
      "text/plain": [
       "{'category': 'World News',\n",
       " 'dfp_kv': {'page_type': 'Article'},\n",
       " 'tags': ['Israel government',\n",
       "  'Hamas',\n",
       "  'World news',\n",
       "  'Hostage situations',\n",
       "  'Religion',\n",
       "  'Hezbollah',\n",
       "  'International agreements',\n",
       "  'Samir al-Mashharawi',\n",
       "  'Lebanon',\n",
       "  'Middle East',\n",
       "  'Benjamin Netanyahu',\n",
       "  'Fires',\n",
       "  'War and unrest',\n",
       "  'Yair Lapid',\n",
       "  'General news',\n",
       "  'Israel',\n",
       "  '2024 Mideast Wars'],\n",
       " 'page_type': 'Article',\n",
       " 'publication_date': '2025-03-22T05:45:39.000Z',\n",
       " 'item_id': '32ca8fa2c5f6e887e1d51b9ffea6f836',\n",
       " 'headline': 'Israel fires on Lebanon after rocket attack in the heaviest exchange since the truce with Hezbollah',\n",
       " 'authors': ['BASSEM MROUE', 'WAFAA SHURAFA'],\n",
       " 'proximic_video_segments': [],\n",
       " 'proximic_video_source_url': ''}"
      ]
     },
     "execution_count": 95,
     "metadata": {},
     "output_type": "execute_result"
    }
   ],
   "source": [
    "perm_ds"
   ]
  },
  {
   "cell_type": "code",
   "execution_count": null,
   "id": "24581889-6568-47a0-94c3-2d7f0545d86d",
   "metadata": {},
   "outputs": [],
   "source": []
  },
  {
   "cell_type": "code",
   "execution_count": null,
   "id": "efeb6cca-540e-4afe-aa58-58dfa25c5dab",
   "metadata": {},
   "outputs": [],
   "source": []
  }
 ],
 "metadata": {
  "kernelspec": {
   "display_name": "Python 3 (ipykernel)",
   "language": "python",
   "name": "python3"
  },
  "language_info": {
   "codemirror_mode": {
    "name": "ipython",
    "version": 3
   },
   "file_extension": ".py",
   "mimetype": "text/x-python",
   "name": "python",
   "nbconvert_exporter": "python",
   "pygments_lexer": "ipython3",
   "version": "3.12.7"
  }
 },
 "nbformat": 4,
 "nbformat_minor": 5
}
