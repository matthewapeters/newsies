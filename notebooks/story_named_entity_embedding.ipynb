{
 "cells": [
  {
   "cell_type": "code",
   "execution_count": 1,
   "id": "7a252f04-8145-4462-b62d-5e8a365f1774",
   "metadata": {},
   "outputs": [],
   "source": [
    "import sys\n",
    "import os\n",
    "\n",
    "project_root = os.path.abspath(\"..\")  # Adjust if needed\n",
    "sys.path.append(project_root)\n",
    "\n",
    "from newsies.chromadb_client import ChromaDBClient"
   ]
  },
  {
   "cell_type": "code",
   "execution_count": 2,
   "id": "ca9953ac-b0da-4709-ab90-2c3cbe494dd0",
   "metadata": {},
   "outputs": [],
   "source": [
    "archive=\"ap_news_2025-03-08\"\n",
    "client=ChromaDBClient()\n",
    "client.collection_name=archive"
   ]
  },
  {
   "cell_type": "code",
   "execution_count": 6,
   "id": "a912f005-bb58-4b70-a5f6-0312d92056d9",
   "metadata": {},
   "outputs": [
    {
     "name": "stdout",
     "output_type": "stream",
     "text": [
      "Help on method get in module chromadb.api.models.Collection:\n",
      "\n",
      "get(ids: Union[str, List[str], NoneType] = None, where: Optional[Dict[Union[str, Literal['$and'], Literal['$or']], Union[str, int, float, bool, Dict[Union[Literal['$gt'], Literal['$gte'], Literal['$lt'], Literal['$lte'], Literal['$ne'], Literal['$eq'], Literal['$and'], Literal['$or']], Union[str, int, float, bool]], Dict[Union[Literal['$in'], Literal['$nin']], List[Union[str, int, float, bool]]], List[ForwardRef('Where')]]]] = None, limit: Optional[int] = None, offset: Optional[int] = None, where_document: Optional[Dict[Union[Literal['$contains'], Literal['$not_contains'], Literal['$and'], Literal['$or']], Union[str, List[ForwardRef('WhereDocument')]]]] = None, include: List[chromadb.api.types.IncludeEnum] = [<IncludeEnum.metadatas: 'metadatas'>, <IncludeEnum.documents: 'documents'>]) -> chromadb.api.types.GetResult method of chromadb.api.models.Collection.Collection instance\n",
      "    Get embeddings and their associate data from the data store. If no ids or where filter is provided returns\n",
      "    all embeddings up to limit starting at offset.\n",
      "\n",
      "    Args:\n",
      "        ids: The ids of the embeddings to get. Optional.\n",
      "        where: A Where type dict used to filter results by. E.g. `{\"$and\": [{\"color\" : \"red\"}, {\"price\": {\"$gte\": 4.20}}]}`. Optional.\n",
      "        limit: The number of documents to return. Optional.\n",
      "        offset: The offset to start returning results from. Useful for paging results with limit. Optional.\n",
      "        where_document: A WhereDocument type dict used to filter by the documents. E.g. `{$contains: {\"text\": \"hello\"}}`. Optional.\n",
      "        include: A list of what to include in the results. Can contain `\"embeddings\"`, `\"metadatas\"`, `\"documents\"`. Ids are always included. Defaults to `[\"metadatas\", \"documents\"]`. Optional.\n",
      "\n",
      "    Returns:\n",
      "        GetResult: A GetResult object containing the results.\n",
      "\n"
     ]
    }
   ],
   "source": [
    "help(client.collection.get)"
   ]
  },
  {
   "cell_type": "code",
   "execution_count": 9,
   "id": "c28fa203-f546-4481-a74d-bb67457005b9",
   "metadata": {},
   "outputs": [],
   "source": [
    "resp = client.collection.get(where={\"target\":{\"$eq\":\"DOCUMENT\"}},limit=10)"
   ]
  },
  {
   "cell_type": "code",
   "execution_count": 10,
   "id": "23177986-2b3a-49db-8bd1-949f7f42662c",
   "metadata": {},
   "outputs": [
    {
     "data": {
      "text/plain": [
       "{'chunk_index': 0,\n",
       " 'collection': 'ap_news_2025-03-08',\n",
       " 'date': '2025-03-08',\n",
       " 'embedding_model': 'sentence-transformers/all-MiniLM-L6-v2',\n",
       " 'headline0': 'Thrust into unemployment, axed federal workers face relatives who celebrate their firing',\n",
       " 'headline1': 'N/A',\n",
       " 'headline2': 'N/A',\n",
       " 'section0': '',\n",
       " 'section1': 'politics',\n",
       " 'section2': 'N/A',\n",
       " 'target': 'DOCUMENT',\n",
       " 'text': '▶ Follow live updates on President Donald Trump and his new administration.\\nNEW YORK (AP) — Scrambling to replace their health insurance and to find new work, some laid-off federal workers are running into another unexpected unpleasantry: Relatives cheering their firing.\\nThe country’s bitterly tribal politics are spilling into text chains, social media posts and heated conversations as Americans absorb the reality of cost-cutting measures directed by President Donald Trump and carried out by billionaire Elon Musk’s Department of Government Efficiency. Expecting sympathy, some axed workers are finding family and friends who instead are steadfast in their support of what they see as a bloated government’s waste.\\n“I’ve been treated as a public enemy by the government and now it’s bleeding into my own family,” says 24-year-old Luke Tobin, who was fired last month from his job as a technician with the U.S. Forest Service in Idaho’s Nez Perce National Forest.',\n",
       " 'uri': './daily_news/20250308/trump-musk-doge-federal-layoffs-c41ae32800a7f170484de79572543da2.txt',\n",
       " 'url': 'https://apnews.com/article/trump-musk-doge-federal-layoffs-c41ae32800a7f170484de79572543da2'}"
      ]
     },
     "execution_count": 10,
     "metadata": {},
     "output_type": "execute_result"
    }
   ],
   "source": [
    "resp[\"metadatas\"][0]"
   ]
  },
  {
   "cell_type": "code",
   "execution_count": 11,
   "id": "164b9678-dd3b-421c-9db7-6b6960afe390",
   "metadata": {},
   "outputs": [
    {
     "name": "stderr",
     "output_type": "stream",
     "text": [
      "Some weights of PegasusForConditionalGeneration were not initialized from the model checkpoint at google/pegasus-large and are newly initialized: ['model.decoder.embed_positions.weight', 'model.encoder.embed_positions.weight']\n",
      "You should probably TRAIN this model on a down-stream task to be able to use it for predictions and inference.\n"
     ]
    }
   ],
   "source": [
    "from newsies.ap_news.delve_section_ngrams import detect_named_entities"
   ]
  },
  {
   "cell_type": "code",
   "execution_count": 18,
   "id": "0ddd0739-f341-4ada-b7cd-c50ad7644b73",
   "metadata": {},
   "outputs": [],
   "source": [
    "from sentence_transformers import SentenceTransformer\n",
    "import spacy\n",
    "from spacy.tokens import Doc\n",
    "import torch\n",
    "# Load spaCy model for English\n",
    "nlp = spacy.load(\"en_core_web_sm\")"
   ]
  },
  {
   "cell_type": "code",
   "execution_count": 19,
   "id": "4c259f5f-3372-4be8-b533-b16ea5640f8f",
   "metadata": {},
   "outputs": [],
   "source": [
    "DEVICE_STR = \"cuda\" if torch.cuda.is_available() else \"cpu\"\n",
    "embedding_model = SentenceTransformer(\n",
    "    \"all-MiniLM-L6-v2\", device=DEVICE_STR\n",
    ")  "
   ]
  },
  {
   "cell_type": "code",
   "execution_count": 58,
   "id": "03db39b7-4993-4971-a444-0845de80ad37",
   "metadata": {},
   "outputs": [
    {
     "data": {
      "text/plain": [
       "3056"
      ]
     },
     "execution_count": 58,
     "metadata": {},
     "output_type": "execute_result"
    }
   ],
   "source": [
    "len(client.collection.get(include=[],where={\"target\":{\"$eq\":\"DOCUMENT\"}})[\"ids\"])"
   ]
  },
  {
   "cell_type": "code",
   "execution_count": 37,
   "id": "e092bb84-726c-41bb-bca6-a0316943183a",
   "metadata": {},
   "outputs": [],
   "source": [
    "from newsies import targets"
   ]
  },
  {
   "cell_type": "code",
   "execution_count": 72,
   "id": "e37105be-f4da-432d-b386-21b3f8224fc2",
   "metadata": {},
   "outputs": [],
   "source": [
    "story_ids = client.collection.get(\n",
    "    where={\"target\":{\"$eq\":\"DOCUMENT\"}})[\"ids\"]\n",
    "story_count = len(story_ids)\n",
    "batch_size = 200\n",
    "#for i in range(0, story_count, batch_size):\n",
    "i=0\n"
   ]
  },
  {
   "cell_type": "code",
   "execution_count": 73,
   "id": "5651c229-c6a8-4b71-84b9-b19e1c8509bb",
   "metadata": {},
   "outputs": [
    {
     "data": {
      "text/plain": [
       "3056"
      ]
     },
     "execution_count": 73,
     "metadata": {},
     "output_type": "execute_result"
    }
   ],
   "source": [
    "story_count"
   ]
  },
  {
   "cell_type": "code",
   "execution_count": 74,
   "id": "bbf36f77-d487-4eda-9c58-ac3d36a1d9bf",
   "metadata": {},
   "outputs": [
    {
     "data": {
      "text/plain": [
       "['__daily_news_20250308_able_account_disabilities_savings_439fe21204ff443a1c0d907a112b99a0_txt_7',\n",
       " '__daily_news_20250308_golden_toilet_stolen_blenheim_palace_trial_bb3cd346713923d59304880ca209dcd4_txt_1',\n",
       " '__daily_news_20250308_golden_toilet_stolen_blenheim_palace_trial_bb3cd346713923d59304880ca209dcd4_txt_2',\n",
       " '__daily_news_20250308_golden_toilet_stolen_blenheim_palace_trial_bb3cd346713923d59304880ca209dcd4_txt_3',\n",
       " '__daily_news_20250308_golden_toilet_stolen_blenheim_palace_trial_bb3cd346713923d59304880ca209dcd4_txt_4',\n",
       " '__daily_news_20250308_japan_uk_economy_talks_us_trump_b1762b2f5df9e277fac9c7cca81b630c_txt_1',\n",
       " '__daily_news_20250308_china_congress_economy_defense_tariffs_d6192774e13ccb7e28e06d4c3f2173c4_txt_1',\n",
       " '__daily_news_20250308_china_congress_economy_defense_tariffs_d6192774e13ccb7e28e06d4c3f2173c4_txt_2',\n",
       " '__daily_news_20250308_china_congress_economy_defense_tariffs_d6192774e13ccb7e28e06d4c3f2173c4_txt_3',\n",
       " '__daily_news_20250308_china_congress_economy_defense_tariffs_d6192774e13ccb7e28e06d4c3f2173c4_txt_4',\n",
       " '__daily_news_20250308_china_congress_economy_defense_tariffs_d6192774e13ccb7e28e06d4c3f2173c4_txt_5',\n",
       " '__daily_news_20250308_china_congress_economy_defense_tariffs_d6192774e13ccb7e28e06d4c3f2173c4_txt_6',\n",
       " '__daily_news_20250308_cyclone_alfred_australia_brisbane_aa9277a117903b40e1c1355679a151db_txt_1',\n",
       " '__daily_news_20250308_cyclone_alfred_australia_brisbane_aa9277a117903b40e1c1355679a151db_txt_2',\n",
       " '__daily_news_20250308_cyclone_alfred_australia_brisbane_aa9277a117903b40e1c1355679a151db_txt_3',\n",
       " '__daily_news_20250308_cyclone_alfred_australia_brisbane_aa9277a117903b40e1c1355679a151db_txt_4',\n",
       " '__daily_news_20250308_japan_spring_training_5a4180386dbd6411b497f9dc1743e781_txt_1',\n",
       " '__daily_news_20250308_japan_spring_training_5a4180386dbd6411b497f9dc1743e781_txt_2',\n",
       " '__daily_news_20250308_japan_spring_training_5a4180386dbd6411b497f9dc1743e781_txt_3',\n",
       " '__daily_news_20250308_japan_spring_training_5a4180386dbd6411b497f9dc1743e781_txt_4',\n",
       " '__daily_news_20250308_japan_spring_training_5a4180386dbd6411b497f9dc1743e781_txt_5',\n",
       " '__daily_news_20250308_japan_spring_training_5a4180386dbd6411b497f9dc1743e781_txt_6',\n",
       " '__daily_news_20250308_japan_spring_training_5a4180386dbd6411b497f9dc1743e781_txt_7',\n",
       " '__daily_news_20250308_japan_spring_training_5a4180386dbd6411b497f9dc1743e781_txt_8',\n",
       " '__daily_news_20250308_spacex_starship_elon_musk_launch_accident_e69d04467e2def65d2bc6b0e9645d715_txt_1',\n",
       " '__daily_news_20250308_spacex_starship_elon_musk_launch_accident_e69d04467e2def65d2bc6b0e9645d715_txt_2',\n",
       " '__daily_news_20250308_spacex_starship_elon_musk_launch_accident_e69d04467e2def65d2bc6b0e9645d715_txt_3',\n",
       " '__daily_news_20250308_bay_hill_jay_monahan_commercials_pif_trump_23af2ca260f1d8a47eb298c234ce1e94_txt_1',\n",
       " '__daily_news_20250308_bay_hill_jay_monahan_commercials_pif_trump_23af2ca260f1d8a47eb298c234ce1e94_txt_2',\n",
       " '__daily_news_20250308_bay_hill_jay_monahan_commercials_pif_trump_23af2ca260f1d8a47eb298c234ce1e94_txt_3',\n",
       " '__daily_news_20250308_bay_hill_jay_monahan_commercials_pif_trump_23af2ca260f1d8a47eb298c234ce1e94_txt_4',\n",
       " '__daily_news_20250308_pharmacy_closure_drugstore_cvs_walgreens_rite_aid_91967f18c0c059415b98fcf67ad0f84e_txt_1',\n",
       " '__daily_news_20250308_pharmacy_closure_drugstore_cvs_walgreens_rite_aid_91967f18c0c059415b98fcf67ad0f84e_txt_2',\n",
       " '__daily_news_20250308_pharmacy_closure_drugstore_cvs_walgreens_rite_aid_91967f18c0c059415b98fcf67ad0f84e_txt_3',\n",
       " '__daily_news_20250308_pharmacy_closure_drugstore_cvs_walgreens_rite_aid_91967f18c0c059415b98fcf67ad0f84e_txt_4',\n",
       " '__daily_news_20250308_pharmacy_closure_drugstore_cvs_walgreens_rite_aid_91967f18c0c059415b98fcf67ad0f84e_txt_5',\n",
       " '__daily_news_20250308_pharmacy_closure_drugstore_cvs_walgreens_rite_aid_91967f18c0c059415b98fcf67ad0f84e_txt_6',\n",
       " '__daily_news_20250308_pharmacy_closure_drugstore_cvs_walgreens_rite_aid_91967f18c0c059415b98fcf67ad0f84e_txt_7',\n",
       " '__daily_news_20250308_pharmacy_closure_drugstore_cvs_walgreens_rite_aid_91967f18c0c059415b98fcf67ad0f84e_txt_8',\n",
       " '__daily_news_20250308_pharmacy_closure_drugstore_cvs_walgreens_rite_aid_91967f18c0c059415b98fcf67ad0f84e_txt_9',\n",
       " '__daily_news_20250308_40_day_target_boycott_fast_dei_d1d40f79f5f1b3afb2dfe8561e7729a0_txt_1',\n",
       " '__daily_news_20250308_40_day_target_boycott_fast_dei_d1d40f79f5f1b3afb2dfe8561e7729a0_txt_2',\n",
       " '__daily_news_20250308_40_day_target_boycott_fast_dei_d1d40f79f5f1b3afb2dfe8561e7729a0_txt_3',\n",
       " '__daily_news_20250308_40_day_target_boycott_fast_dei_d1d40f79f5f1b3afb2dfe8561e7729a0_txt_4',\n",
       " '__daily_news_20250308_40_day_target_boycott_fast_dei_d1d40f79f5f1b3afb2dfe8561e7729a0_txt_5',\n",
       " '__daily_news_20250308_40_day_target_boycott_fast_dei_d1d40f79f5f1b3afb2dfe8561e7729a0_txt_6',\n",
       " '__daily_news_20250308_40_day_target_boycott_fast_dei_d1d40f79f5f1b3afb2dfe8561e7729a0_txt_7',\n",
       " '__daily_news_20250308_40_day_target_boycott_fast_dei_d1d40f79f5f1b3afb2dfe8561e7729a0_txt_8',\n",
       " '__daily_news_20250308_arizona_state_womens_basketball_natasha_adair_b9ef5344946d070eeabe235c3b653a0c_txt_1',\n",
       " '__daily_news_20250308_pig_heart_transplant_xenotransplant_maryland_22a3bb89b960ec3da49e7cf2432c3947_txt_1',\n",
       " '__daily_news_20250308_pig_heart_transplant_xenotransplant_maryland_22a3bb89b960ec3da49e7cf2432c3947_txt_2',\n",
       " '__daily_news_20250308_pig_heart_transplant_xenotransplant_maryland_22a3bb89b960ec3da49e7cf2432c3947_txt_3',\n",
       " '__daily_news_20250308_cyber_command_russia_putin_trump_hegseth_c46ef1396e3980071cab81c27e0c0236_txt_1',\n",
       " '__daily_news_20250308_cyber_command_russia_putin_trump_hegseth_c46ef1396e3980071cab81c27e0c0236_txt_2',\n",
       " '__daily_news_20250308_cyber_command_russia_putin_trump_hegseth_c46ef1396e3980071cab81c27e0c0236_txt_3',\n",
       " '__daily_news_20250308_cyber_command_russia_putin_trump_hegseth_c46ef1396e3980071cab81c27e0c0236_txt_4',\n",
       " '__daily_news_20250308_cyber_command_russia_putin_trump_hegseth_c46ef1396e3980071cab81c27e0c0236_txt_5',\n",
       " '__daily_news_20250308_oldest_llama_guiness_north_carolina_camp_children_1a2e9fd6a0802dd5368db9d761d0b91f_txt_1',\n",
       " '__daily_news_20250308_oldest_llama_guiness_north_carolina_camp_children_1a2e9fd6a0802dd5368db9d761d0b91f_txt_2',\n",
       " '__daily_news_20250308_oldest_llama_guiness_north_carolina_camp_children_1a2e9fd6a0802dd5368db9d761d0b91f_txt_3',\n",
       " '__daily_news_20250308_social_media_kids_drugs_fentanyl_instagram_snapchat_8adb28d33f11cd3f52a104aa83a54e32_txt_1',\n",
       " '__daily_news_20250308_social_media_kids_drugs_fentanyl_instagram_snapchat_8adb28d33f11cd3f52a104aa83a54e32_txt_2',\n",
       " '__daily_news_20250308_social_media_kids_drugs_fentanyl_instagram_snapchat_8adb28d33f11cd3f52a104aa83a54e32_txt_3',\n",
       " '__daily_news_20250308_social_media_kids_drugs_fentanyl_instagram_snapchat_8adb28d33f11cd3f52a104aa83a54e32_txt_4',\n",
       " '__daily_news_20250308_social_media_kids_drugs_fentanyl_instagram_snapchat_8adb28d33f11cd3f52a104aa83a54e32_txt_5',\n",
       " '__daily_news_20250308_social_media_kids_drugs_fentanyl_instagram_snapchat_8adb28d33f11cd3f52a104aa83a54e32_txt_6',\n",
       " '__daily_news_20250308_social_media_kids_drugs_fentanyl_instagram_snapchat_8adb28d33f11cd3f52a104aa83a54e32_txt_7',\n",
       " '__daily_news_20250308_social_media_kids_drugs_fentanyl_instagram_snapchat_8adb28d33f11cd3f52a104aa83a54e32_txt_8',\n",
       " '__daily_news_20250308_social_media_kids_drugs_fentanyl_instagram_snapchat_8adb28d33f11cd3f52a104aa83a54e32_txt_9',\n",
       " '__daily_news_20250308_social_media_kids_drugs_fentanyl_instagram_snapchat_8adb28d33f11cd3f52a104aa83a54e32_txt_10',\n",
       " '__daily_news_20250308_social_media_kids_drugs_fentanyl_instagram_snapchat_8adb28d33f11cd3f52a104aa83a54e32_txt_11',\n",
       " '__daily_news_20250308_social_media_kids_drugs_fentanyl_instagram_snapchat_8adb28d33f11cd3f52a104aa83a54e32_txt_12',\n",
       " '__daily_news_20250308_social_media_kids_drugs_fentanyl_instagram_snapchat_8adb28d33f11cd3f52a104aa83a54e32_txt_13',\n",
       " '__daily_news_20250308_social_media_kids_drugs_fentanyl_instagram_snapchat_8adb28d33f11cd3f52a104aa83a54e32_txt_14',\n",
       " '__daily_news_20250308_social_media_kids_drugs_fentanyl_instagram_snapchat_8adb28d33f11cd3f52a104aa83a54e32_txt_15',\n",
       " '__daily_news_20250308_social_media_kids_drugs_fentanyl_instagram_snapchat_8adb28d33f11cd3f52a104aa83a54e32_txt_16',\n",
       " '__daily_news_20250308_social_media_kids_drugs_fentanyl_instagram_snapchat_8adb28d33f11cd3f52a104aa83a54e32_txt_17',\n",
       " '__daily_news_20250308_social_security_doge_lawsuit_data_protection_ab30a5f446914b93aff84188558c1416_txt_1',\n",
       " '__daily_news_20250308_social_security_doge_lawsuit_data_protection_ab30a5f446914b93aff84188558c1416_txt_2',\n",
       " '__daily_news_20250308_social_security_doge_lawsuit_data_protection_ab30a5f446914b93aff84188558c1416_txt_3',\n",
       " '__daily_news_20250308_bird_flu_moderna_vaccine_mrna_pandemic_7f15d8d274a24d89fa86e2f57e13cbff_txt_1',\n",
       " '__daily_news_20250308_yankees_cole_elbow_soreness_2911504d46858182a5874b89c64d84a4_txt_1',\n",
       " '__daily_news_20250308_seed_oil_beef_tallow_kennedy_4fdf0f30134277fd6dd20b4ede789295_txt_1',\n",
       " '__daily_news_20250308_seed_oil_beef_tallow_kennedy_4fdf0f30134277fd6dd20b4ede789295_txt_2',\n",
       " '__daily_news_20250308_seed_oil_beef_tallow_kennedy_4fdf0f30134277fd6dd20b4ede789295_txt_3',\n",
       " '__daily_news_20250308_seed_oil_beef_tallow_kennedy_4fdf0f30134277fd6dd20b4ede789295_txt_4',\n",
       " '__daily_news_20250308_seed_oil_beef_tallow_kennedy_4fdf0f30134277fd6dd20b4ede789295_txt_5',\n",
       " '__daily_news_20250308_seed_oil_beef_tallow_kennedy_4fdf0f30134277fd6dd20b4ede789295_txt_6',\n",
       " '__daily_news_20250308_seed_oil_beef_tallow_kennedy_4fdf0f30134277fd6dd20b4ede789295_txt_7',\n",
       " '__daily_news_20250308_small_business_sanctuary_city_loeffler_c6a6906185278722905be1e35f481645_txt_1',\n",
       " '__daily_news_20250308_small_business_sanctuary_city_loeffler_c6a6906185278722905be1e35f481645_txt_2',\n",
       " '__daily_news_20250308_wild_game_dinner_pennsylvania_bc3b46cd43ec63dde764d30f67bd7e6a_txt_1',\n",
       " '__daily_news_20250308_wild_game_dinner_pennsylvania_bc3b46cd43ec63dde764d30f67bd7e6a_txt_2',\n",
       " '__daily_news_20250308_wild_game_dinner_pennsylvania_bc3b46cd43ec63dde764d30f67bd7e6a_txt_3',\n",
       " '__daily_news_20250308_wild_game_dinner_pennsylvania_bc3b46cd43ec63dde764d30f67bd7e6a_txt_4',\n",
       " '__daily_news_20250308_yemen_djibouti_migrants_boat_capsizes_ed99cf075878387af59194d79a63097c_txt_1',\n",
       " '__daily_news_20250308_yemen_djibouti_migrants_boat_capsizes_ed99cf075878387af59194d79a63097c_txt_2',\n",
       " '__daily_news_20250308_stream_tv_movies_music_march_2025_ba6b38ff71bb0ebc3f1095dc80501d9e_txt_1',\n",
       " '__daily_news_20250308_stream_tv_movies_music_march_2025_ba6b38ff71bb0ebc3f1095dc80501d9e_txt_2',\n",
       " '__daily_news_20250308_stream_tv_movies_music_march_2025_ba6b38ff71bb0ebc3f1095dc80501d9e_txt_3',\n",
       " '__daily_news_20250308_stream_tv_movies_music_march_2025_ba6b38ff71bb0ebc3f1095dc80501d9e_txt_4',\n",
       " '__daily_news_20250308_stream_tv_movies_music_march_2025_ba6b38ff71bb0ebc3f1095dc80501d9e_txt_5',\n",
       " '__daily_news_20250308_stream_tv_movies_music_march_2025_ba6b38ff71bb0ebc3f1095dc80501d9e_txt_6',\n",
       " '__daily_news_20250308_stream_tv_movies_music_march_2025_ba6b38ff71bb0ebc3f1095dc80501d9e_txt_7',\n",
       " '__daily_news_20250308_stream_tv_movies_music_march_2025_ba6b38ff71bb0ebc3f1095dc80501d9e_txt_8',\n",
       " '__daily_news_20250308_stream_tv_movies_music_march_2025_ba6b38ff71bb0ebc3f1095dc80501d9e_txt_9',\n",
       " '__daily_news_20250308_stream_tv_movies_music_march_2025_ba6b38ff71bb0ebc3f1095dc80501d9e_txt_10',\n",
       " '__daily_news_20250308_royal_shrovetide_ashbourne_ancient_soccer_murder_880658c923b33288df42af109d25e458_txt_1',\n",
       " '__daily_news_20250308_royal_shrovetide_ashbourne_ancient_soccer_murder_880658c923b33288df42af109d25e458_txt_2',\n",
       " '__daily_news_20250308_royal_shrovetide_ashbourne_ancient_soccer_murder_880658c923b33288df42af109d25e458_txt_3',\n",
       " '__daily_news_20250308_royal_shrovetide_ashbourne_ancient_soccer_murder_880658c923b33288df42af109d25e458_txt_4',\n",
       " '__daily_news_20250308_royal_shrovetide_ashbourne_ancient_soccer_murder_880658c923b33288df42af109d25e458_txt_5',\n",
       " '__daily_news_20250308_royal_shrovetide_ashbourne_ancient_soccer_murder_880658c923b33288df42af109d25e458_txt_6',\n",
       " '__daily_news_20250308_royal_shrovetide_ashbourne_ancient_soccer_murder_880658c923b33288df42af109d25e458_txt_7',\n",
       " '__daily_news_20250308_royal_shrovetide_ashbourne_ancient_soccer_murder_880658c923b33288df42af109d25e458_txt_8',\n",
       " '__daily_news_20250308_royal_shrovetide_ashbourne_ancient_soccer_murder_880658c923b33288df42af109d25e458_txt_9',\n",
       " '__daily_news_20250308_royal_shrovetide_ashbourne_ancient_soccer_murder_880658c923b33288df42af109d25e458_txt_10',\n",
       " '__daily_news_20250308_royal_shrovetide_ashbourne_ancient_soccer_murder_880658c923b33288df42af109d25e458_txt_11',\n",
       " '__daily_news_20250308_royal_shrovetide_ashbourne_ancient_soccer_murder_880658c923b33288df42af109d25e458_txt_12',\n",
       " '__daily_news_20250308_royal_shrovetide_ashbourne_ancient_soccer_murder_880658c923b33288df42af109d25e458_txt_13',\n",
       " '__daily_news_20250308_royal_shrovetide_ashbourne_ancient_soccer_murder_880658c923b33288df42af109d25e458_txt_14',\n",
       " '__daily_news_20250308_bulldog_puppies_seizure_stolen_92cb0d90418fc204e5ba72150b5fd293_txt_1',\n",
       " '__daily_news_20250308_cfpb_trump_vought_consumer_protection_52e00309b2f1b55d4de6eadd0057bd50_txt_1',\n",
       " '__daily_news_20250308_cfpb_trump_vought_consumer_protection_52e00309b2f1b55d4de6eadd0057bd50_txt_2',\n",
       " '__daily_news_20250308_cfpb_trump_vought_consumer_protection_52e00309b2f1b55d4de6eadd0057bd50_txt_3',\n",
       " '__daily_news_20250308_cfpb_trump_vought_consumer_protection_52e00309b2f1b55d4de6eadd0057bd50_txt_4',\n",
       " '__daily_news_20250308_cfpb_trump_vought_consumer_protection_52e00309b2f1b55d4de6eadd0057bd50_txt_5',\n",
       " '__daily_news_20250308_cfpb_trump_vought_consumer_protection_52e00309b2f1b55d4de6eadd0057bd50_txt_6',\n",
       " '__daily_news_20250308_cfpb_trump_vought_consumer_protection_52e00309b2f1b55d4de6eadd0057bd50_txt_7',\n",
       " '__daily_news_20250308_melania_trump_safety_bill_online_cruz_capitol_920f171e0eeb559ed2e77700ec77c413_txt_1',\n",
       " '__daily_news_20250308_melania_trump_safety_bill_online_cruz_capitol_920f171e0eeb559ed2e77700ec77c413_txt_2',\n",
       " '__daily_news_20250308_melania_trump_safety_bill_online_cruz_capitol_920f171e0eeb559ed2e77700ec77c413_txt_3',\n",
       " '__daily_news_20250308_melania_trump_safety_bill_online_cruz_capitol_920f171e0eeb559ed2e77700ec77c413_txt_4',\n",
       " '__daily_news_20250308_us_air_quality_monitors_8270927bbd0f166238243ac9d14bce03_txt_1',\n",
       " '__daily_news_20250308_us_air_quality_monitors_8270927bbd0f166238243ac9d14bce03_txt_2',\n",
       " '__daily_news_20250308_us_air_quality_monitors_8270927bbd0f166238243ac9d14bce03_txt_3',\n",
       " '__daily_news_20250308_us_air_quality_monitors_8270927bbd0f166238243ac9d14bce03_txt_4',\n",
       " '__daily_news_20250308_us_air_quality_monitors_8270927bbd0f166238243ac9d14bce03_txt_5',\n",
       " '__daily_news_20250308_us_air_quality_monitors_8270927bbd0f166238243ac9d14bce03_txt_6',\n",
       " '__daily_news_20250308_us_air_quality_monitors_8270927bbd0f166238243ac9d14bce03_txt_7',\n",
       " '__daily_news_20250308_us_air_quality_monitors_8270927bbd0f166238243ac9d14bce03_txt_8',\n",
       " '__daily_news_20250308_us_air_quality_monitors_8270927bbd0f166238243ac9d14bce03_txt_9',\n",
       " '__daily_news_20250308_nebraska_lab_grown_meat_ban_f897a369dfa4f84235c9aae33cf1712a_txt_1',\n",
       " '__daily_news_20250308_nebraska_lab_grown_meat_ban_f897a369dfa4f84235c9aae33cf1712a_txt_2',\n",
       " '__daily_news_20250308_nebraska_lab_grown_meat_ban_f897a369dfa4f84235c9aae33cf1712a_txt_3',\n",
       " '__daily_news_20250308_nebraska_lab_grown_meat_ban_f897a369dfa4f84235c9aae33cf1712a_txt_4',\n",
       " '__daily_news_20250308_nebraska_lab_grown_meat_ban_f897a369dfa4f84235c9aae33cf1712a_txt_5',\n",
       " '__daily_news_20250308_nebraska_lab_grown_meat_ban_f897a369dfa4f84235c9aae33cf1712a_txt_6',\n",
       " '__daily_news_20250308_bird_flu_humans_animals_deaths_ae01d3717783f0cf41e23f3fedb97017_txt_1',\n",
       " '__daily_news_20250308_bird_flu_humans_animals_deaths_ae01d3717783f0cf41e23f3fedb97017_txt_2',\n",
       " '__daily_news_20250308_bird_flu_humans_animals_deaths_ae01d3717783f0cf41e23f3fedb97017_txt_3',\n",
       " '__daily_news_20250308_bird_flu_humans_animals_deaths_ae01d3717783f0cf41e23f3fedb97017_txt_4',\n",
       " '__daily_news_20250308_bird_flu_humans_animals_deaths_ae01d3717783f0cf41e23f3fedb97017_txt_5',\n",
       " '__daily_news_20250308_bird_flu_humans_animals_deaths_ae01d3717783f0cf41e23f3fedb97017_txt_6',\n",
       " '__daily_news_20250308_bird_flu_humans_animals_deaths_ae01d3717783f0cf41e23f3fedb97017_txt_7',\n",
       " '__daily_news_20250308_bird_flu_humans_animals_deaths_ae01d3717783f0cf41e23f3fedb97017_txt_8',\n",
       " '__daily_news_20250308_springing_forward_daylight_saving_time_c87a434fb84af044690ad0f48c80544e_txt_1',\n",
       " '__daily_news_20250308_springing_forward_daylight_saving_time_c87a434fb84af044690ad0f48c80544e_txt_2',\n",
       " '__daily_news_20250308_springing_forward_daylight_saving_time_c87a434fb84af044690ad0f48c80544e_txt_3',\n",
       " '__daily_news_20250308_springing_forward_daylight_saving_time_c87a434fb84af044690ad0f48c80544e_txt_4',\n",
       " '__daily_news_20250308_springing_forward_daylight_saving_time_c87a434fb84af044690ad0f48c80544e_txt_5',\n",
       " '__daily_news_20250308_springing_forward_daylight_saving_time_c87a434fb84af044690ad0f48c80544e_txt_6',\n",
       " '__daily_news_20250308_pig_organ_transplant_xenotransplant_revivicor_ad400e7f1d30c2722456eb92e641449f_txt_1',\n",
       " '__daily_news_20250308_pig_organ_transplant_xenotransplant_revivicor_ad400e7f1d30c2722456eb92e641449f_txt_2',\n",
       " '__daily_news_20250308_pig_organ_transplant_xenotransplant_revivicor_ad400e7f1d30c2722456eb92e641449f_txt_3',\n",
       " '__daily_news_20250308_pig_organ_transplant_xenotransplant_revivicor_ad400e7f1d30c2722456eb92e641449f_txt_4',\n",
       " '__daily_news_20250308_pig_organ_transplant_xenotransplant_revivicor_ad400e7f1d30c2722456eb92e641449f_txt_5',\n",
       " '__daily_news_20250308_pig_organ_transplant_xenotransplant_revivicor_ad400e7f1d30c2722456eb92e641449f_txt_6',\n",
       " '__daily_news_20250308_pig_organ_transplant_xenotransplant_revivicor_ad400e7f1d30c2722456eb92e641449f_txt_7',\n",
       " '__daily_news_20250308_pig_organ_transplant_xenotransplant_revivicor_ad400e7f1d30c2722456eb92e641449f_txt_8',\n",
       " '__daily_news_20250308_pig_organ_transplant_xenotransplant_revivicor_ad400e7f1d30c2722456eb92e641449f_txt_9',\n",
       " '__daily_news_20250308_pig_organ_transplant_xenotransplant_revivicor_ad400e7f1d30c2722456eb92e641449f_txt_10',\n",
       " '__daily_news_20250308_pig_organ_transplant_xenotransplant_revivicor_ad400e7f1d30c2722456eb92e641449f_txt_11',\n",
       " '__daily_news_20250308_myanmar_general_election_december_take_over_suu_kyi_d7583089781b508986b8ae51d82e991e_txt_1',\n",
       " '__daily_news_20250308_myanmar_general_election_december_take_over_suu_kyi_d7583089781b508986b8ae51d82e991e_txt_2',\n",
       " '__daily_news_20250308_myanmar_general_election_december_take_over_suu_kyi_d7583089781b508986b8ae51d82e991e_txt_3',\n",
       " '__daily_news_20250308_trump_louisiana_cancer_denka_chloroprene_epa_lawsuit_89b1f870816f65370eeb75ff269e9c0e_txt_1',\n",
       " '__daily_news_20250308_trump_louisiana_cancer_denka_chloroprene_epa_lawsuit_89b1f870816f65370eeb75ff269e9c0e_txt_2',\n",
       " '__daily_news_20250308_trump_louisiana_cancer_denka_chloroprene_epa_lawsuit_89b1f870816f65370eeb75ff269e9c0e_txt_3',\n",
       " '__daily_news_20250308_trump_louisiana_cancer_denka_chloroprene_epa_lawsuit_89b1f870816f65370eeb75ff269e9c0e_txt_4',\n",
       " '__daily_news_20250308_trump_louisiana_cancer_denka_chloroprene_epa_lawsuit_89b1f870816f65370eeb75ff269e9c0e_txt_5',\n",
       " '__daily_news_20250308_bosnia_serbs_laws_tensions_constitutional_court_5e86847d316e78d74d869f2f2b1a8ff5_txt_1',\n",
       " '__daily_news_20250308_bosnia_serbs_laws_tensions_constitutional_court_5e86847d316e78d74d869f2f2b1a8ff5_txt_2',\n",
       " '__daily_news_20250308_bosnia_serbs_laws_tensions_constitutional_court_5e86847d316e78d74d869f2f2b1a8ff5_txt_3',\n",
       " '__daily_news_20250308_bosnia_serbs_laws_tensions_constitutional_court_5e86847d316e78d74d869f2f2b1a8ff5_txt_4',\n",
       " '__daily_news_20250308_fact_check_ice_van_fire_philadelphia_democrats_4c2900be05af7c4bb8e707d16d5cb753_txt_1',\n",
       " '__daily_news_20250308_trump_crypto_summit_bitcoin_sacks_c87505c8cf0aaef3398bf0bb1139b420_txt_1',\n",
       " '__daily_news_20250308_trump_crypto_summit_bitcoin_sacks_c87505c8cf0aaef3398bf0bb1139b420_txt_2',\n",
       " '__daily_news_20250308_trump_crypto_summit_bitcoin_sacks_c87505c8cf0aaef3398bf0bb1139b420_txt_3',\n",
       " '__daily_news_20250308_trump_crypto_summit_bitcoin_sacks_c87505c8cf0aaef3398bf0bb1139b420_txt_4',\n",
       " '__daily_news_20250308_can_meatless_mondays_help_environment_b09eaab6cbdce176debff415b48b1ec0_txt_1',\n",
       " '__daily_news_20250308_can_meatless_mondays_help_environment_b09eaab6cbdce176debff415b48b1ec0_txt_2',\n",
       " '__daily_news_20250308_can_meatless_mondays_help_environment_b09eaab6cbdce176debff415b48b1ec0_txt_3',\n",
       " '__daily_news_20250308_can_meatless_mondays_help_environment_b09eaab6cbdce176debff415b48b1ec0_txt_4',\n",
       " '__daily_news_20250308_can_meatless_mondays_help_environment_b09eaab6cbdce176debff415b48b1ec0_txt_5',\n",
       " '__daily_news_20250308_can_meatless_mondays_help_environment_b09eaab6cbdce176debff415b48b1ec0_txt_6',\n",
       " '__daily_news_20250308_can_meatless_mondays_help_environment_b09eaab6cbdce176debff415b48b1ec0_txt_7',\n",
       " '__daily_news_20250308_can_meatless_mondays_help_environment_b09eaab6cbdce176debff415b48b1ec0_txt_8',\n",
       " '__daily_news_20250308_can_meatless_mondays_help_environment_b09eaab6cbdce176debff415b48b1ec0_txt_9',\n",
       " '__daily_news_20250308_can_meatless_mondays_help_environment_b09eaab6cbdce176debff415b48b1ec0_txt_10']"
      ]
     },
     "execution_count": 74,
     "metadata": {},
     "output_type": "execute_result"
    }
   ],
   "source": [
    "ids = story_ids[story_count-batch_size : ]\n",
    "ids\n",
    "#x=client.collection.get(ids=ids)\n",
    "        "
   ]
  },
  {
   "cell_type": "code",
   "execution_count": 85,
   "id": "54713839-5663-4186-8a14-48ca8406c4ab",
   "metadata": {},
   "outputs": [],
   "source": [
    "x = client.collection.get(ids=['__daily_news_20250308_china_congress_economy_defense_tariffs_d6192774e13ccb7e28e06d4c3f2173c4_txt_1',\n",
    " '__daily_news_20250308_china_congress_economy_defense_tariffs_d6192774e13ccb7e28e06d4c3f2173c4_txt_2',\n",
    " '__daily_news_20250308_china_congress_economy_defense_tariffs_d6192774e13ccb7e28e06d4c3f2173c4_txt_3',\n",
    " '__daily_news_20250308_china_congress_economy_defense_tariffs_d6192774e13ccb7e28e06d4c3f2173c4_txt_4',\n",
    " '__daily_news_20250308_china_congress_economy_defense_tariffs_d6192774e13ccb7e28e06d4c3f2173c4_txt_5',\n",
    " '__daily_news_20250308_china_congress_economy_defense_tariffs_d6192774e13ccb7e28e06d4c3f2173c4_txt_6'])"
   ]
  },
  {
   "cell_type": "code",
   "execution_count": 86,
   "id": "e6107e2e-35e8-4110-ad7c-50832a374e32",
   "metadata": {},
   "outputs": [
    {
     "data": {
      "text/plain": [
       "'It released the growth target in a separate report, parts of which were presented to the nearly 3,000 members of the National People’s Congress by Premier Li Qiang. It acknowledged both international and domestic challenges.\\n“An increasingly complex and severe external environment may exert a greater impact on China in areas such as trade, science, and technology,” the report said, without specifics. “Unilateralism and protectionism are on the rise.”'"
      ]
     },
     "execution_count": 86,
     "metadata": {},
     "output_type": "execute_result"
    }
   ],
   "source": [
    "x[\"documents\"][1]"
   ]
  },
  {
   "cell_type": "code",
   "execution_count": 88,
   "id": "1639be54-767e-49c9-bc3b-029b98760744",
   "metadata": {},
   "outputs": [
    {
     "data": {
      "text/plain": [
       "{'chunk_index': 0,\n",
       " 'collection': 'ap_news_2025-03-08',\n",
       " 'date': '2025-03-08',\n",
       " 'embedding_model': 'sentence-transformers/all-MiniLM-L6-v2',\n",
       " 'headline0': \"China sticks to an economic growth target of ‘around 5%' despite a looming trade war with US\",\n",
       " 'headline1': 'N/A',\n",
       " 'headline2': 'N/A',\n",
       " 'section0': 'business',\n",
       " 'section1': 'N/A',\n",
       " 'section2': 'N/A',\n",
       " 'target': 'DOCUMENT',\n",
       " 'text': 'BEIJING (AP) — The Chinese government unveiled an annual economic growth target of “around 5%” on Wednesday, despite the possible negative impact of a looming trade war with the United States, and pledged to address what it called “sluggish” consumer spending at home.\\nThe target was announced at the opening session of the annual meeting of China’s legislature. It’s the same as for the last two years but will likely be more difficult to achieve because of the new, higher U.S. tariffs on Chinese products and other economic headwinds. The use of “around” gives the government some room if growth falls short.\\nThe target signals the government’s intention to try to stabilize growth in challenging economic times but hold back on more dramatic action that some economists say is needed to supercharge it.\\nThe government also said in a draft budget released Wednesday that defense spending would rise 7.2% this year to 1.78 trillion yuan ($245 billion), second only to the United States.',\n",
       " 'uri': './daily_news/20250308/china-congress-economy-defense-tariffs-d6192774e13ccb7e28e06d4c3f2173c4.txt',\n",
       " 'url': 'https://apnews.com/article/china-congress-economy-defense-tariffs-d6192774e13ccb7e28e06d4c3f2173c4'}"
      ]
     },
     "execution_count": 88,
     "metadata": {},
     "output_type": "execute_result"
    }
   ],
   "source": [
    "x[\"metadatas\"][1]"
   ]
  },
  {
   "cell_type": "code",
   "execution_count": 89,
   "id": "b31c4257-7a7f-4d26-977d-2b5fd19e7478",
   "metadata": {},
   "outputs": [
    {
     "data": {
      "text/plain": [
       "'__daily_news_20250308_china_congress_economy_defense_tariffs_d6192774e13ccb7e28e06d4c3f2173c4_txt_2'"
      ]
     },
     "execution_count": 89,
     "metadata": {},
     "output_type": "execute_result"
    }
   ],
   "source": [
    "x[\"ids\"][1]"
   ]
  },
  {
   "cell_type": "code",
   "execution_count": null,
   "id": "3a731d3a-780a-46c1-9197-e093ccfc5e77",
   "metadata": {},
   "outputs": [],
   "source": []
  }
 ],
 "metadata": {
  "kernelspec": {
   "display_name": "Python 3 (ipykernel)",
   "language": "python",
   "name": "python3"
  },
  "language_info": {
   "codemirror_mode": {
    "name": "ipython",
    "version": 3
   },
   "file_extension": ".py",
   "mimetype": "text/x-python",
   "name": "python",
   "nbconvert_exporter": "python",
   "pygments_lexer": "ipython3",
   "version": "3.12.7"
  }
 },
 "nbformat": 4,
 "nbformat_minor": 5
}
